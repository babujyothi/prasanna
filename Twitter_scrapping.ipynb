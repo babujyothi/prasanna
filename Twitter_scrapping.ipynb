{
  "nbformat": 4,
  "nbformat_minor": 0,
  "metadata": {
    "colab": {
      "provenance": [],
      "include_colab_link": true
    },
    "kernelspec": {
      "name": "python3",
      "display_name": "Python 3"
    },
    "language_info": {
      "name": "python"
    }
  },
  "cells": [
    {
      "cell_type": "markdown",
      "metadata": {
        "id": "view-in-github",
        "colab_type": "text"
      },
      "source": [
        "<a href=\"https://colab.research.google.com/github/babujyothi/prasanna/blob/main/Twitter_scrapping.ipynb\" target=\"_parent\"><img src=\"https://colab.research.google.com/assets/colab-badge.svg\" alt=\"Open In Colab\"/></a>"
      ]
    },
    {
      "cell_type": "markdown",
      "source": [
        "# Capstone Project: Sentiment Analysis and Topic Modeling of Tweets\n",
        "\n",
        "## Twitter Web Scrapping\n",
        "\n",
        "### Why Twitter Data?\n",
        "\n",
        "Twitter is a goldmine for data analysts due to its real-time nature, diverse user base, and the wide range of topics discussed. Whether it’s tracking the latest trends, understanding public sentiment, or conducting market research, Twitter data can provide valuable insights.\n",
        "\n",
        "\n",
        "## Description:\n",
        "This project analyzes tweets from the official Twitter handle of the University of Hyderabad (@HydUniv).\n",
        "The objective is to extract insights, assess public sentiment, and identify key topics discussed in the tweets.\n",
        "\n",
        "## Use Case:\n",
        "Universities, like any public institution, need to understand public perception and engagement on social media.\n",
        "By analyzing the sentiment and topics of tweets, decision-makers can:\n",
        "1. Measure public opinion.\n",
        "2. Identify trending topics and concerns.\n",
        "3. Improve communication strategies based on sentiment and engagement metrics.\n",
        "\n",
        "## Problem Statement:\n",
        "Social media platforms like Twitter generate massive data, but extracting meaningful insights is challenging due to:\n",
        "1. Large volumes of unstructured text data.\n",
        "2. The need for real-time sentiment and topic analysis.\n",
        "3. Lack of tools to identify trends and public sentiment effectively.\n",
        "\n",
        "## Solution:\n",
        "This project uses Python and relevant libraries to:\n",
        "1. Fetch tweets using the Twitter API.\n",
        "2. Perform sentiment analysis using TextBlob.\n",
        "3. Categorize tweets into positive, negative, and neutral sentiments.\n",
        "4. Conduct topic modeling using Latent Dirichlet Allocation (LDA) to uncover underlying themes.\n",
        "\n",
        "## Steps in the Project:\n",
        "1. Data Collection\n",
        "2. Sentiment Analysis\n",
        "3. Topic Modeling\n"
      ],
      "metadata": {
        "id": "MPaunTbFt1Y4"
      }
    },
    {
      "cell_type": "code",
      "source": [
        "from google.colab import drive\n",
        "drive.mount('/content/drive')"
      ],
      "metadata": {
        "colab": {
          "base_uri": "https://localhost:8080/"
        },
        "id": "QcdMcWOq20OT",
        "outputId": "00b0e286-8196-45e6-812b-9311ae033d8b"
      },
      "execution_count": 49,
      "outputs": [
        {
          "output_type": "stream",
          "name": "stdout",
          "text": [
            "Mounted at /content/drive\n"
          ]
        }
      ]
    },
    {
      "cell_type": "code",
      "source": [
        "pip install tweepy"
      ],
      "metadata": {
        "colab": {
          "base_uri": "https://localhost:8080/"
        },
        "id": "1e4aRCOl_USS",
        "outputId": "be5313f8-72a7-4d06-e443-f60eb107df67"
      },
      "execution_count": 7,
      "outputs": [
        {
          "output_type": "stream",
          "name": "stdout",
          "text": [
            "Requirement already satisfied: tweepy in /usr/local/lib/python3.10/dist-packages (4.14.0)\n",
            "Requirement already satisfied: oauthlib<4,>=3.2.0 in /usr/local/lib/python3.10/dist-packages (from tweepy) (3.2.2)\n",
            "Requirement already satisfied: requests<3,>=2.27.0 in /usr/local/lib/python3.10/dist-packages (from tweepy) (2.32.3)\n",
            "Requirement already satisfied: requests-oauthlib<2,>=1.2.0 in /usr/local/lib/python3.10/dist-packages (from tweepy) (1.3.1)\n",
            "Requirement already satisfied: charset-normalizer<4,>=2 in /usr/local/lib/python3.10/dist-packages (from requests<3,>=2.27.0->tweepy) (3.4.0)\n",
            "Requirement already satisfied: idna<4,>=2.5 in /usr/local/lib/python3.10/dist-packages (from requests<3,>=2.27.0->tweepy) (3.10)\n",
            "Requirement already satisfied: urllib3<3,>=1.21.1 in /usr/local/lib/python3.10/dist-packages (from requests<3,>=2.27.0->tweepy) (2.2.3)\n",
            "Requirement already satisfied: certifi>=2017.4.17 in /usr/local/lib/python3.10/dist-packages (from requests<3,>=2.27.0->tweepy) (2024.8.30)\n"
          ]
        }
      ]
    },
    {
      "cell_type": "code",
      "source": [
        "# Import Required Libraries\n",
        "import tweepy\n",
        "import pandas as pd\n",
        "from textblob import TextBlob\n",
        "from sklearn.feature_extraction.text import CountVectorizer\n",
        "from sklearn.decomposition import LatentDirichletAllocation\n",
        "import matplotlib.pyplot as plt\n",
        "import re"
      ],
      "metadata": {
        "id": "6n3dE9I1_ff1"
      },
      "execution_count": 50,
      "outputs": []
    },
    {
      "cell_type": "code",
      "execution_count": 51,
      "metadata": {
        "id": "hnLnV7ia_Rdy"
      },
      "outputs": [],
      "source": [
        "# Replace with your own credentials\n",
        "consumer_key = 'U6WRdQcoc92dsZ4f43KhQEArQ'\n",
        "consumer_secret = 'I3SFWDxNhsnoxC9vW2PSwrBPkPgtioOPfN5vWcgZeNzQ64bHHb'\n",
        "access_token = '1660514647760572416-Zz4GQoAR62VDFco6TSt9nj5y7jqqV9'\n",
        "access_token_secret = 'NAFpgFz4YLxc3fXOOBryKnsP42XeNUpwvlgRw4eMO3NSC'\n",
        "bearer_token = 'AAAAAAAAAAAAAAAAAAAAAEhAwwEAAAAAhdJEsl3TN2oRd9cPdyNQLMjrDAM%3DulqI7gzKJoHc4kGEilelRnSDY6Nbr7qEBkX4dBuZMtDkGsbJn6'"
      ]
    },
    {
      "cell_type": "code",
      "source": [
        "\n",
        "# Replace with your own credentials\n",
        "consumer_key = 'CPCInEA4qrlWZa3jlMPoI4xxf'\n",
        "consumer_secret = 'fDX8iU7Y3kgJf3INyKD6qRBoTWrnsLXVytmZcruBkho06b9cYw'\n",
        "access_token = '1850534742338473984-grK9aHQziTFVgs371vAvISI3lg2fBO'\n",
        "access_token_secret = 'auFnku5HxJrwE7Ft8S8xecfiR5KCoTSQwOubSaR7Ndm97'\n",
        "bearer_token = 'AAAAAAAAAAAAAAAAAAAAAI6vwwEAAAAAT0QJpWDyNuNCdj83act6EbNrpDg%3DxDOg44iQ1NVZ58jt3nU1A5frJyAin9Ssq3Nnka0cqBxYlhJn5k'"
      ],
      "metadata": {
        "id": "90G-fTGpFnoU"
      },
      "execution_count": 52,
      "outputs": []
    },
    {
      "cell_type": "markdown",
      "source": [
        "# 1. Data Collection\n"
      ],
      "metadata": {
        "id": "VE3IuhZMuw_v"
      }
    },
    {
      "cell_type": "code",
      "source": [
        "# Initialize Twitter API Client\n",
        "client = tweepy.Client(bearer_token=bearer_token)"
      ],
      "metadata": {
        "id": "KhGUB_Nwu3bE"
      },
      "execution_count": 53,
      "outputs": []
    },
    {
      "cell_type": "code",
      "source": [
        "# Fetch Tweets from the User Handle\n",
        "user_name = 'HydUniv'\n",
        "user = client.get_user(username=user_name)"
      ],
      "metadata": {
        "id": "LNaloRgzu7_q"
      },
      "execution_count": 10,
      "outputs": []
    },
    {
      "cell_type": "code",
      "source": [
        "# Search for tweets from the user 'Username'\n",
        "user_name = 'HydUniv'\n",
        "user = client.get_user(username=user_name)\n",
        "if user.data:\n",
        "  user_id = user.data.id\n",
        "  tweets = client.get_users_tweets(id=user_id, max_results=100, tweet_fields=['text'])\n",
        "\n",
        "  if tweets.data:\n",
        "    for tweet in tweets.data:\n",
        "        print(tweet.text)\n",
        "  else:\n",
        "    print(\"No tweets found for the user.\")\n",
        "else:\n",
        "    print(\"User not found.\")"
      ],
      "metadata": {
        "colab": {
          "base_uri": "https://localhost:8080/"
        },
        "id": "8kXj_oaW_muN",
        "outputId": "862884be-a84d-4529-eebe-92b6dd2fd9b8"
      },
      "execution_count": null,
      "outputs": [
        {
          "output_type": "stream",
          "name": "stdout",
          "text": [
            "The NSS cell, University of Hyderabad organized a cleanup drive programme on the premises of the School of Humanities in coordination with the Horticulture and Sanitation departments on November 16, 2024. \n",
            "\n",
            "The NSS volunteers cut and removed the unnecessary plants, branches of… https://t.co/coS2qNugjh https://t.co/lIg29a3rfk\n",
            "RT @EduMinOfIndia: Hon'ble Union Minister for Education, Shri @dpradhanbjp, chaired a meeting to deliberate upon a comprehensive action pla…\n",
            "RT @uohpolsci: Ms. Bhoomi Sharma, 2nd year Master's student, undertook an internship with National Human Rights Commission (NHRC) in August…\n",
            "RT @uohpolsci: Tabula Rasa - Another name for fresh beginnings!\n",
            "\n",
            "With a night packed with  simmering zeal, dancing melodies, awe-inspiring…\n",
            "RT @EduMinOfIndia: जनजातीय गौरव दिवस के अवसर पर आयोजित कार्यक्रम में माननीय प्रधानमंत्री श्री @narendramodi ने संबोधित करते हुए कहा कि बीते…\n",
            "At SSCTU in Mulugu. https://t.co/ADOLRJiwUv\n",
            "RT @dpradhanbjp: Research is key for expanding the coverage of welfare. The knowledge vertical will be the pillar of India’s emergence and…\n",
            "RT @dpradhanbjp: On the auspicious day of Kartik Purnima, delighted to be among the @ISBedu family to deliver the inaugural address at the…\n",
            "The University of Hyderabad (UoH) and Sammakka Sarakka Central Tribal University (SSCTU), being mentored by the former, celebrated the Janjatiya Gaurav Divas, which marks the 150th birth anniversary of freedom fighter, Bhagwan Birsa Munda, on 15th November 2024.\n",
            "\n",
            "Read more at:… https://t.co/J5TE6Rzc62 https://t.co/BQVjBGA4z7\n",
            "RT @EduMinOfIndia: Hon’ble Union Minister for Education, Shri @dpradhanbjp, will inaugurate the second edition of the ISB Insights Forum, a…\n",
            "RT @karandi65: A big announcement today for our higher education institutions !!\n",
            "Anusandhan National Research Foundation (ANRF) @ANRFIndia,…\n",
            "M. Anees, a Ph.D. research scholar under the guidance of Dr. Madhavi Ravikumar in the @uohcomm at the University of Hyderabad, presented a paper titled \"Connected Lives: Revolutionizing Health and Social Interaction with Wearable Technology in India\" at the 16th International… https://t.co/QhzxibmqL1 https://t.co/FwQWSqqukr\n",
            "The University of Hyderabad had the honour of hosting Hon'ble Union Minister of State for Education, Government of India, Dr. Sukanta Majumdar, on his visit to its campus on 13th November 2024. Dr. Majumdar interacted with the Vice Chancellor, Prof. B J Rao, Registrar, Dr. Devesh… https://t.co/6vlYhneVs5 https://t.co/OQF4aELJQP\n",
            "Dr. Sukanta Majumdar, Hon'ble Union Minister of State for Education and Development  of North Eastern Region, Govt. of India on a visit to the University of Hyderabad on 13 November 2024. He was welcomed by Prof. BJ Rao, Vice Chancellor and Dr. Devesh Nigam, Registrar of the… https://t.co/VsmnueBPDR https://t.co/i3aQDvgdJt\n",
            "The School of Physics Alumni Cell at University of Hyderabad is organising a distinguished alumni lecture as a part of golden jubilee celebrations of the university by Prof. Achanta Venugopal, Director NPL who is an alumnus of the UoH where he did his MSc Physics during… https://t.co/sXqnSuDGAh https://t.co/d1RVSgTYri\n",
            "The School of Life Sciences (SLS), University of Hyderabad (UoH) organized the Alumni Lecture Series on November 11, 2024 as a part of the Golden Jubilee Celebration of the University with the support of Dean, SLS. Five of our Alumni, Dr. Maya Kambhampati from Norstella Digital… https://t.co/zEWdtBzQ1D https://t.co/kIJnchVAEq\n",
            "RT @dpradhanbjp: We have to become a producing economy. Industry 4.0 gives us the right opportunity to leapfrog and develop our education i…\n",
            "RT @dpradhanbjp: Suggested that academic leaders and administrators focus on: \n",
            "\n",
            "✅Strengthening public universities through innovative modes…\n",
            "RT @dpradhanbjp: Welcomed Secretaries and Directors in-charge of higher education in states and UTs at the two-day National Workshop on Hig…\n",
            "RT @Baskar_UoH: Please check our recent article featured on the front cover of Inorganic Chemistry. Thank @serbonline for funding and @HydU…\n",
            "Centre for Advanced Studies in Electronics Science and Technology (CASEST), School of Physics, University of Hyderabad is organizing a Golden Jubilee Distinguished Lecture on “Emerging Semiconductor Technologies: Trends and Perspectives” by Prof. Samit K. Ray, Department of… https://t.co/HXz6luUCuc https://t.co/oqKzoBfkuH\n",
            "RT @EduMinOfIndia: We invite you to participate in dynamic technical sessions on NEP 2020 Implementation – Challenges and Roadmap at the tw…\n",
            "RT @EduMinOfIndia: Two engaging technical sessions on the theme Technology in Education will feature insightful discussions on key initiati…\n",
            "Prof. @AshwiniNangia, Senior Professor and Dean, School of Chemistry at University of Hyderabad (UoH) has authored a book titled, “Supramolecular Synthons in Crystal Engineering of Pharmaceutical Properties” which has been published by Taylor &amp; Francis (T &amp; F) CRC Press.\n",
            "\n",
            "This… https://t.co/DgxJ6aQuw1 https://t.co/W5G1WEtzxj\n",
            "Prof. Arun Ghosh, Ian P. Rothwell Distinguished Professor, Department of Organic Chemistry, Medicinal Chemistry at Purdue University has been invited to be the Prof. Goverdhan Mehta visiting Chair Professor at the University of Hyderabad. His research group is involved in… https://t.co/EoTreb0Tl1 https://t.co/jYBx45fDFD\n",
            "RT @EduMinOfIndia: Hon’ble Union Minister for Education, Shri @dpradhanbjp, will preside as the Chief Guest at the National Workshop on Hig…\n",
            "RT @DEFindia: #LightningTalk: @WeAreCyberlite leads a session on integrating #AI in education within an ethical framework to empower teache…\n",
            "RT @DEFindia: #LightningTalk: Kausthubha Kalidindi from @tattlemade will discuss strategies for combating online gender-based violence (OGB…\n",
            "RT @EduMinOfIndia: In a National Wellbeing Conclave underway at @IITHyderabad, over 200 institutions, including premier IITs, IIMs, NITs, a…\n",
            "The NSS cell, University of Hyderabad organized a cleanup drive on the premises of the School of Humanities in coordination with the Horticulture and Sanitation departments on November 9, 2024. \n",
            "\n",
            "The NSS volunteers cut and removed the overgrown plants, branches of the trees,… https://t.co/k9F39fdiKJ https://t.co/NmkeiMzg8Q\n",
            "Research &amp; Development Cell in collaboration with the Internal Quality Assurance Cell (IQAC), DST-Technology Enabling Centre (DST-TEC) and the Institute Innovation Council (IIC) is organizing a   one-day seminar on \"Fostering a Culture of Innovation: Best Practices for IP… https://t.co/b0dwUtBNOE https://t.co/27zr6Bp8QZ\n",
            "Alumni Lecture Series organized by the School of Life Sciences, University of Hyderabad on 11-November, 2024. The program will start at 10 AM in Seminar Hall of School of Life Sciences.\n",
            "\n",
            "#alumnus #alumni #lecture \n",
            "\n",
            "@AICTE_INDIA @dpradhanbjp @EduMinOfIndia @HydUniv @ugc_india… https://t.co/rrGP20gFrd https://t.co/NmG8A6pTxe\n",
            "🌟 Ajay Kumar Wins the Srinivas Rayaprol Poetry Prize 2024! 🌟\n",
            "Congratulations to Ajay Kumar, a 23-year-old poet and student of English Literature, for winning this year’s Srinivas Rayaprol Poetry Prize! 🏆 Ajay, based in Chennai, stood out among 66 competitors, selected by a… https://t.co/hzIAFobppy https://t.co/az6tR5T6cA\n",
            "RT @DEFindia: #LightningTalk: Rahul Paith, CEO, @MATHAIMl, will share key insights on tackling bias &amp; discrimination in #AI &amp; the responsib…\n",
            "The name may be read as Kandula Subramaniam.\n",
            "Dr. Bhim Subba, Assistant Professor, Department of Political Science, School of Social Sciences, University of Hyderabad (UoH), visited the People’s Republic of China from 16-21 September 2024. The Indian delegation consisted of prominent Indian Sinologists and China studies… https://t.co/KvDZ2H65cf https://t.co/3BNCFt4IG1\n",
            "From Print to Digital: The UoH Herald Story\n",
            "\n",
            "The newsletter of the University of Hyderabad (UoH Herald) has undergone a major transformation from the Printed version to the Virtual form and has now completed more than a decade in the present version. This bilingual… https://t.co/FKesNrKCc7 https://t.co/kRohVMjly8\n",
            "RT @DEFindia: On Day 2 of the 6th #DigitalCitizenSummit 2024, experts will discuss AI's transformative role in social equity &amp; development…\n",
            "RT @uohpolsci: @AmrithaV4, second-year MA student in Political Science, presented a paper titled-\n",
            "\n",
            "\"Maritime Cybersecurity in the Indo-Paci…\n",
            "RT @uohpolsci: A recent book by Prof.@ramdas38714842, faculty in the Department of Political Science, titled -\n",
            "\n",
            "\"Telangana Rajkiya Prasthan…\n",
            "RT @uohpolsci: Anamika P K, 2nd year Master's student , presented a paper titled :\n",
            " \n",
            "\"Navigating Climate Action : India’s Evolving Regional…\n",
            "RT @uohpolsci: Ms. Abhirami, a 2nd year Master's student, undertook an internship at the Council for Social Development (Hyderabad) for a p…\n",
            "RT @uohpolsci: Dr. Bhim Subba, faculty at Department of Political Science, University of Hyderabad, and an expert in Chinese Politics, was…\n",
            "RT @DEFindia: #LighteningTalk: Amrita Sengupta will explore how algorithmic infrastructures enhance accountability in #AI for healthcare at…\n",
            "RT @narendramodi: A big boost to making education more accessible.\n",
            "\n",
            "The Cabinet has approved the PM-Vidyalaxmi scheme to support youngsters…\n",
            "RT @DEFindia: To explore how youth shape digital narratives &amp; understand algorithms, join this impactful conversation hosted by @defindia &amp;…\n",
            "RT @dpradhanbjp: Students having annual family income of upto ₹8 lakh shall be eligible to get 3% interest subvention on education loans up…\n",
            "RT @dpradhanbjp: Universalising access to 21st century higher education for India’s talented youth is PM Modi’s guarantee.\n",
            "\n",
            "Hon’ble PM @nar…\n",
            "The University of Hyderabad (UoH) is proud to announce that Professor V. Subrahmanyam from the School of Physics has been selected as a member principal investigator in a significant research initiative under the Government of India’s National Quantum Mission (NQM). This mission,… https://t.co/4i2o1S1oFw https://t.co/aYyhSIyEqt\n",
            "Dr. S. Devidas, who completed his Ph.D. in 2023 at the School of Computer and Information Sciences, University of Hyderabad under the supervision of Prof. Rukma Rekha and Dr. Subba Rao Y.V., joined as faculty in Computer Science at the Maulana Azad National Institute of… https://t.co/zyfvzawRCQ https://t.co/howxrJDEj8\n",
            "Dr. Banani Basistha, PhD, an IoE Postdoctoral Research Fellow specializing in Indian Psychology under the mentorship of Prof. JSR Prasad at the University of Hyderabad (UoH), was recently honored with the esteemed InSPA – Prof. Panch Ramalingam Young Scientist Award for 2024… https://t.co/ny4q5SDgZs https://t.co/GThR0BkoPQ\n",
            "Heartfelt #Condolences\n",
            "\n",
            "We are deeply saddened to hear of the passing of Kandula Subramanian, an alumnus of the University of Hyderabad’s School of Economics, the Class of MA, Economics, 1992-94. An award-winning journalist, Kandula held senior editorial positions at Outlook… https://t.co/ItGwvZXd7b https://t.co/BMsqvLLJ2w\n",
            "RT @DEFindia: Meet our Technical Partners driving innovation &amp; accountability in the digital space, paving the way for a more inclusive #Di…\n",
            "RT @DEFindia: #LighteningTalk: Digital leaders are all set to share their insights at the 6th #DigitalCitizenSummit 2024, hosted by @USAID,…\n",
            "RT @TIFRH_buzz: Upcoming Event for Physics Teachers:\n",
            "\n",
            "TOP-UP: Teacher Orientation Programme in Undergraduate #Physics by @HBCSE_TIFR, @TIFR…\n",
            "RT @DEFindia: Engage in a vital conversation at the 6th #DigitalCitizenSummit on 16th Nov, hosted by @SFLCin \n",
            "Experts will discuss Shadow B…\n",
            "RT @IndiaBioscience: @Arushi_Batra28 @ankitarathore02 @manjulaharikri2 @DBTIndia @_KarishmaK The advisory board for YIM 2025 comprises Kris…\n",
            "Observance of the Vigilance Awareness Week 2024 from 28.10.2024 to 03.11.2024.\n",
            "\n",
            "'Integrity Pledge' on \"Culture of Integrity for Nation's Prosperity\" was administered in Hindi by Dr Devesh Nigam, Registrar and in English by Prof. B J Rao, Vice Chancellor to the University… https://t.co/6RO8zwM8Xl https://t.co/h67wKz3QBP\n",
            "RT @DEFindia: Digital exclusion threatens fundamental rights. At #DigitalCitizenSummit 2024, join @LibtechIndia, @saforumindia, @mkssindia…\n",
            "Shivakumar Chedurupalli, a PhD scholar under the supervision of Senior Professor and Dean James Raju K.C. at the Center for Advanced Studies in Electronics Science and Technology (CASEST), School of Physics, University of Hyderabad, presented a poster titled \" Ba0.5Sr0.5TiO3… https://t.co/SJEffW4aIl https://t.co/n1LQMxHzrf\n",
            "https://t.co/a0BIPhvkdQ\n",
            "Aswathy E.C., PhD scholar working under the guidance of Professor JSR Prasad in the Department of Sanskrit Studies, School of Humanities, University of Hyderabad presented a paper titled “Tantrayukti: Bridging Tradition and Logic in Ancient Indian Scholarly Practices” at 51st All… https://t.co/jP7SSQUjVN https://t.co/SZQV9aFpcF\n",
            "RT @DEFindia: Experience the power of community-driven connectivity at the 6th #DigitalCitizenSummit 2024! \n",
            "Join the session hosted by the…\n",
            "RT @EduMinOfIndia: The third and final G20 Education Working Group Technical Meeting, under the Brazil Presidency, took place this Tuesday…\n",
            "Your Journey Begins: #International Student Orientation at @HydUniv \n",
            "\n",
            "On 28thOctober 2024, the Office for International Affairs (OIA) at University of Hyderabad (UoH) hosted an engaging welcome and orientation program for the new batch of international students at the SIP… https://t.co/GZRmnIC95x https://t.co/hB3o6hrcwm\n",
            "Prof. Ashwini Kumar Nangia, senior Professor, School of Chemistry at University of Hyderabad (UoH) has been featured in the field of ‘Physical Sciences and Mathematics’ in ScholarGPS Top Scholar.\n",
            "\n",
            "He has 362 publications with 23,947 citations and overall h-index: 85\n",
            "\n",
            "30 Scholars… https://t.co/zHNuIxIPHc https://t.co/rDKCIOzo9I\n",
            "The School of Economics at the University of Hyderabad (UoH) launched its Golden Jubilee #Alumni Lecture Series, featuring Mr. Kompella Harinarayana, an alumnus from the first M.Phil. batch (1976-77) and former Chief General Manager of NMDC Limited on October 21, 2024. His… https://t.co/QzxZeVeM9R https://t.co/4t5BNOUBEn\n",
            "We are proud to announce that Koduri Mani Sai, an alumnus of the School of Medical Sciences, University of Hyderabad’s 5-yrs Integrated MSc in Optometry and Vision Sciences, has become a fully qualified optometrist in the United Kingdom. Successfully navigating the General… https://t.co/XOAJcMvpYt https://t.co/XX5P2RmtDG\n",
            "A Golden Jubilee Lecture has been scheduled on 30.10.2024 at 11.00 AM, titled: “Post-2008 Crisis Financial Intermediation in EMEs: Opportunities &amp; Risks” by Professor Madhusudan Mohanty, Adviser for Emerging Market Economies at the Bank of International Settlements, Basel,… https://t.co/uQ7OV51Sle https://t.co/e89NU2d9Zm\n",
            "Dr. Aloka Parasher Sen, Former Professor with the Department of History, School of Social Sciences, University of Hyderabad has published (October 24, 2024) a Handbook entitled Urban History for Early India with Springer Nature, Singapore.\n",
            "\n",
            "ABOUT THE BOOK \n",
            "\n",
            "This book addresses… https://t.co/0hS50HmBCJ https://t.co/AiLivixgzF\n",
            "RT @EduMinOfIndia: Hon’ble Union Minister for Education, Shri @dpradhanbjp, will preside over as the Chief Guest at the 13th Convocation of…\n",
            "RT @dpradhanbjp: Evening interaction with our diaspora is always invigorating! Shared my views on the common bonds between India and Austra…\n",
            "RT @EduMinOfIndia: Hon’ble Union Minister for Education, Shri @dpradhanbjp, visited UTS Moore Park, a sporting precinct housed at the Unive…\n",
            "RT @dpradhanbjp: Had an engaging and informative interaction with Indian students studying across Australia. Glad to know that they are wor…\n",
            "It's Election time at #UniversityofHyderabad \n",
            "\n",
            "Polling in progress for the Students' Union Elections 2024-25\n",
            "\n",
            "Counting will take place on 26 October 2024.\n",
            "\n",
            "Best wishes to all the candidates.\n",
            "\n",
            "#StudentElections2024 #polling \n",
            "\n",
            "@HydUniv @EduMinOfIndia @PIB_India @PIBHyderabad… https://t.co/O5tf2mLeVZ https://t.co/dggQNmzoBY\n",
            "Ms. Amphu Terangpi working under Prof. Y.A. Sudhakar Reddy, Centre for Folk Culture Studies, School of Social Sciences, University of Hyderabad (UoH) got selected for the post of an Assistant Professor in School of Arts and Aesthetics, Jawaharlal Nehru University, New Delhi.\n",
            "\n",
            "The… https://t.co/aayPkPHSoZ https://t.co/HhqeZWWc6J\n",
            "Congratulations to Dr. Ajay W. Tumaney, Department of Bichemistry, School of Life Sciences, University of Hyderabad for getting Rs 70.26 lakhs in funding from the Indian government's Anusandhan National Research Foundation (ANRF).\n",
            "\n",
            "Project Title - \"Engineering sunflower for… https://t.co/FGuEwejIWx https://t.co/KMN9Pa21b8\n",
            "RT @dpradhanbjp: AIESC will further strengthen our bilateral partnership in all levels of education- school, skills and higher education.…\n",
            "RT @dpradhanbjp: Glad to be in Sydney for the 2nd Australia 🇦🇺-🇮🇳India Education and Skills Council meeting alongwith Minister @JasonClareM…\n",
            "RT @dpradhanbjp: Enriching interaction with members of @IRUAustralia. \n",
            "\n",
            "Gained good insights on collaborative approaches between Indian Uni…\n",
            "Debankita Das, a Ph.D. student working under the supervision of Prof. Suchandra Ghosh, Department of History, School of Social Sciences, University of Hyderabad (UoH), recently presented a paper on “Cultural Histories of Mobility and Fisherfolk Narratives in a Changing Bay’’… https://t.co/wSW5iBiC0w https://t.co/mDUSnfyTSV\n",
            "RT @EduMinOfIndia: Hon’ble Union Minister for Education, Shri @dpradhanbjp, will attend the 2nd Australia India Education and Skills Counci…\n",
            "RT @EduMinOfIndia: Hon'ble Union Minister for Education, Shri @dpradhanbjp, was recently on a two-day visit to Singapore. Check out some hi…\n",
            "Sethu Kalyani A, pursuing PhD under the supervision of Prof. Appa Rao Podile in the department of Plant Sciences, School of Life Sciences presented a poster on “Potential use of endophytic bacteria from wild millets for plant growth promotion” in the “8th Asian PGPR international… https://t.co/S82NquAtGH https://t.co/mbdNRKrTUw\n",
            "RT @dpradhanbjp: Had a great tour of @RMIT, a hub for technology, design, and enterprise. \n",
            "\n",
            "Got a closer look at their ‘Discovery to Device…\n",
            "RT @dpradhanbjp: Arrived in Australia to a warm welcome. Grateful to the Indian community in Melbourne for the wonderful reception. It was…\n",
            "RT @LawrenceWongST: Caught up with Indian Minister of Education @dpradhanbjp today. He has been a steadfast advocate for closer cooperation…\n",
            "Professor Ajailiu Niumai Appointed as Visiting Fellow at West Virginia University\n",
            "\n",
            "We are happy to announce that Professor Ajailiu Niumai from @HydUniv has been appointed as a Visiting Fellow at @WestVirginiaU. 🌍🎓\n",
            "\n",
            "Her impactful lectures on human trafficking and the ethnic… https://t.co/Kv1UMALFHx https://t.co/1M6PMrQhPe\n",
            "RT @dpradhanbjp: Called-on PM of Singapore, HE Mr. @LawrenceWongST. \n",
            "\n",
            "Had meaningful conversations on elevating and expanding our bilateral…\n",
            "RT @EduMinOfIndia: In a major effort to strengthen bilateral cooperation in the education sector, Hon'ble Union Minister for Education Shri…\n",
            "Dr. Devesh Nigam, Registrar, @HydUniv has been featured by BusinessPrizm Magazine in \"10 Most Inspiring Education Leaders in India 2024.\n",
            "\n",
            "Congratulations and best wishes to Dr. Devesh Nigam.\n",
            "\n",
            "Access the magazine at: https://t.co/B8UIK2f5Nh\n",
            "\n",
            "@ugc_india @EduMinOfIndia @mygovindia… https://t.co/xXBwKAl7r1 https://t.co/bThXnwGM4H\n",
            "The much-awaited Competitive Exams and UGC-NET Cell for students is now operational in the first floor of the left wing, beside the PGDLAN Lab in Indira Gandhi Memorial Library (IGML) from 16th October 2024. It’s wonderful to note that this cell is attracting aspirant students,… https://t.co/Ik1Fx3PLaZ https://t.co/P6lCqnUBLO\n",
            "The research groups of University of Hyderabad (UoH) and Banaras Hindu University (BHU) lead by Prof. Anil Kumar Chaudhary, ACRHEM (DAE-CoE), School of Physics, University of Hyderabad (UoH) and Dr. Jayeeta Lahiri, Asst. Professor of the Department of Physics at Banaras Hindu… https://t.co/x7ESOnOcpj https://t.co/XvN013vu0Z\n",
            "RT @narendramodi: A very important stride in India’s effort to become a leader in tech, innovation and AI. I am confident these COEs will b…\n",
            "The new CoEs in AI led by top Indian higher education institutions in consortium with industry partners and start-ups are set to revolutionize #IndiaAI ecosystem! From advancing healthcare to transforming agriculture and building sustainable cities, these CoEs will develop… https://t.co/weO9jQjm4X https://t.co/WvIkYmFnby\n",
            "Ministry of Education and @IITjammu constituted Apex committee has selected 3 outstanding consortiums to establish Centres of Excellence (CoE) in AI. Led by top Indian Higher Education institutions, these consortiums comprising of industries and start-ups were chosen from 55… https://t.co/7UFXna7rJi https://t.co/BobRQUcl0v\n",
            "Establishment of 3 Centres of Excellence (CoE) for AI!\n",
            "CoEs led by top Indian Higher Education institutions in consortium with industries, academia, Ngo, Start ups, Panchayat and Ministries to be set up for conducting cutting-edge research in AI. These COEs to foster Innovation… https://t.co/ndyadhKdO1 https://t.co/gAh93yCFnj\n"
          ]
        }
      ]
    },
    {
      "cell_type": "code",
      "source": [
        "if tweets.data:\n",
        "  tweet_list = []\n",
        "  for tweet in tweets.data:\n",
        "    tweet_dict = {\n",
        "        'Tweet Text': tweet.text,\n",
        "        # Add other relevant fields here like 'created_at', 'author_id', etc.\n",
        "    }\n",
        "    tweet_list.append(tweet_dict)\n",
        "\n",
        "  df = pd.DataFrame(tweet_list)\n",
        "\n",
        "  # Convert the DataFrame to a CSV file\n",
        "  df.to_csv('uoh_tweets.csv', index=False)  # 'tweets.csv' is the file name\n",
        "  print(\"Tweets saved to tweets.csv\")\n",
        "else:\n",
        "  print(\"No tweets found to create DataFrame.\")"
      ],
      "metadata": {
        "colab": {
          "base_uri": "https://localhost:8080/"
        },
        "id": "3Sjc0EYDSx43",
        "outputId": "bf61ba3a-a949-4f67-95b3-de42d4ddbaf2"
      },
      "execution_count": null,
      "outputs": [
        {
          "output_type": "stream",
          "name": "stdout",
          "text": [
            "Tweets saved to tweets.csv\n"
          ]
        }
      ]
    },
    {
      "cell_type": "markdown",
      "source": [
        "# Extracting Tweets without API keys\n",
        "\n",
        "### Introducing ntscraper\n",
        "\n",
        "ntscraper is a Python library designed to scrape tweets directly from Twitter without the need for official APIs. This makes it incredibly accessible and easy to use, especially for those just starting in data science.\n",
        "Key Features of ntscraper:\n",
        "\n",
        "    No API Keys Required: Avoids the hassle of dealing with API rate limits and authorization.\n",
        "    Real-Time Data: Fetches the latest tweets as they are posted.\n",
        "    CSV Conversion: Easily converts scraped data into CSV format for analysis."
      ],
      "metadata": {
        "id": "kvJZ_2jPxuhw"
      }
    },
    {
      "cell_type": "code",
      "source": [
        "# Install the ntscraper package to enable scraping from Twitter\n",
        "!pip install ntscraper"
      ],
      "metadata": {
        "colab": {
          "base_uri": "https://localhost:8080/"
        },
        "id": "1y28TJ1awROI",
        "outputId": "8019d56e-a48f-4e02-8c17-35650e7ff397"
      },
      "execution_count": 13,
      "outputs": [
        {
          "output_type": "stream",
          "name": "stdout",
          "text": [
            "Requirement already satisfied: ntscraper in /usr/local/lib/python3.10/dist-packages (0.3.17)\n",
            "Requirement already satisfied: requests>=2.28 in /usr/local/lib/python3.10/dist-packages (from ntscraper) (2.32.3)\n",
            "Requirement already satisfied: beautifulsoup4>=4.11 in /usr/local/lib/python3.10/dist-packages (from ntscraper) (4.12.3)\n",
            "Requirement already satisfied: lxml>=4.9 in /usr/local/lib/python3.10/dist-packages (from ntscraper) (5.3.0)\n",
            "Requirement already satisfied: tqdm>=4.66 in /usr/local/lib/python3.10/dist-packages (from ntscraper) (4.66.6)\n",
            "Requirement already satisfied: soupsieve>1.2 in /usr/local/lib/python3.10/dist-packages (from beautifulsoup4>=4.11->ntscraper) (2.6)\n",
            "Requirement already satisfied: charset-normalizer<4,>=2 in /usr/local/lib/python3.10/dist-packages (from requests>=2.28->ntscraper) (3.4.0)\n",
            "Requirement already satisfied: idna<4,>=2.5 in /usr/local/lib/python3.10/dist-packages (from requests>=2.28->ntscraper) (3.10)\n",
            "Requirement already satisfied: urllib3<3,>=1.21.1 in /usr/local/lib/python3.10/dist-packages (from requests>=2.28->ntscraper) (2.2.3)\n",
            "Requirement already satisfied: certifi>=2017.4.17 in /usr/local/lib/python3.10/dist-packages (from requests>=2.28->ntscraper) (2024.8.30)\n"
          ]
        }
      ]
    },
    {
      "cell_type": "code",
      "source": [
        "# Import Pandas to work with data in tabular format\n",
        "# Import Nitter class from ntscraper to scrape tweets\n",
        "import pandas as pd\n",
        "from ntscraper import Nitter"
      ],
      "metadata": {
        "id": "Beqt2dYkyREf"
      },
      "execution_count": 14,
      "outputs": []
    },
    {
      "cell_type": "code",
      "source": [
        "# Create an instance of Nitter class to start scraping\n",
        "scraper = Nitter()"
      ],
      "metadata": {
        "colab": {
          "base_uri": "https://localhost:8080/"
        },
        "id": "MijfGMjbyV86",
        "outputId": "222099d4-946f-4a29-8f81-e401bf195aa7"
      },
      "execution_count": 15,
      "outputs": [
        {
          "output_type": "stream",
          "name": "stderr",
          "text": [
            "Testing instances: 100%|██████████| 14/14 [00:16<00:00,  1.19s/it]\n"
          ]
        }
      ]
    },
    {
      "cell_type": "code",
      "source": [
        "# Define a function to scrape and format tweets\n",
        "# Fetch the tweets based on the provided parameters\n",
        "def get_tweets(name,modes,no):\n",
        "    tweets = scraper.get_tweets(name, mode = modes, number=no)\n",
        "\n",
        "# Initialize an empty list to store formatted tweet data\n",
        "    final_tweets = []\n",
        "    for tweet in tweets['tweets'] :\n",
        "\n",
        "# Extract link, text, date, likes, and comments from each tweet\n",
        "        data = [tweet['link'], tweet['text'], tweet['date'], tweet['stats']['likes'], tweet['stats']['comments']]\n",
        "# Append the extracted data to the final list\n",
        "        final_tweets.append(data)\n",
        "# Convert the list of tweets into a Pandas DataFrame with defined columns\n",
        "    data = pd.DataFrame(final_tweets, columns =['link','text','date','No_of_Likes','No_of_tweets'])\n",
        "    return data\n",
        "\n",
        ""
      ],
      "metadata": {
        "id": "pBdci5cYyaif"
      },
      "execution_count": 19,
      "outputs": []
    },
    {
      "cell_type": "code",
      "source": [
        "#we can extract Tweets using user, term or Hashtag from twitter\n",
        "data = get_tweets('elonmusk','user',150)"
      ],
      "metadata": {
        "colab": {
          "base_uri": "https://localhost:8080/"
        },
        "id": "L3BLJgfKywHE",
        "outputId": "6b41f834-0ddd-434d-94a4-8e95e75c07b0"
      },
      "execution_count": 20,
      "outputs": [
        {
          "output_type": "stream",
          "name": "stderr",
          "text": [
            "INFO:root:No instance specified, using random instance https://nitter.privacydev.net\n",
            "INFO:root:Current stats for elonmusk: 21 tweets, 0 threads...\n",
            "WARNING:root:Empty page on https://nitter.privacydev.net\n"
          ]
        }
      ]
    },
    {
      "cell_type": "code",
      "source": [
        "data"
      ],
      "metadata": {
        "colab": {
          "base_uri": "https://localhost:8080/",
          "height": 707
        },
        "id": "U32t3WlVy1xM",
        "outputId": "0bdd6e00-04a3-4217-9a99-99816f25de41"
      },
      "execution_count": 21,
      "outputs": [
        {
          "output_type": "execute_result",
          "data": {
            "text/plain": [
              "                                                 link  \\\n",
              "0   https://twitter.com/elonmusk/status/1853614981...   \n",
              "1   https://twitter.com/elonmusk/status/1853691543...   \n",
              "2   https://twitter.com/beeple/status/185366319074...   \n",
              "3   https://twitter.com/elonmusk/status/1853688868...   \n",
              "4   https://twitter.com/america/status/18536138266...   \n",
              "5   https://twitter.com/elonmusk/status/1853688289...   \n",
              "6   https://twitter.com/TrumpWarRoom/status/185368...   \n",
              "7   https://twitter.com/AutismCapital/status/18536...   \n",
              "8   https://twitter.com/elonmusk/status/1853685052...   \n",
              "9   https://twitter.com/elonmusk/status/1853679967...   \n",
              "10  https://twitter.com/elonmusk/status/1853679120...   \n",
              "11  https://twitter.com/elonmusk/status/1853678173...   \n",
              "12  https://twitter.com/elonmusk/status/1853669602...   \n",
              "13  https://twitter.com/elonmusk/status/1853660633...   \n",
              "14  https://twitter.com/elonmusk/status/1853658441...   \n",
              "15  https://twitter.com/GadSaad/status/18536052979...   \n",
              "16  https://twitter.com/ajtourville/status/1853645...   \n",
              "17  https://twitter.com/elonmusk/status/1853633719...   \n",
              "18  https://twitter.com/elonmusk/status/1853629098...   \n",
              "19  https://twitter.com/elonmusk/status/1853625573...   \n",
              "20  https://twitter.com/elonmusk/status/1853625288...   \n",
              "\n",
              "                                                 text  \\\n",
              "0   Worth listening to this @JoeRogan episode befo...   \n",
              "1   Below are the R minus D early vote deltas in s...   \n",
              "2                                           LAST PUSH   \n",
              "3   This platform is the top source of news on Earth!   \n",
              "4   ELON MUSK: “Go out there and vote... for Peanu...   \n",
              "5                 Congratulations, Joshua of Arizona!   \n",
              "6   PRESIDENT TRUMP: \"To every citizen across this...   \n",
              "7   We've uploaded all of the Joe Rogan x Elon Mus...   \n",
              "8                        Great speech by @MegynKelly!   \n",
              "9                         Vote to preserve democracy!   \n",
              "10                                 Interesting thread   \n",
              "11                                               Yeah   \n",
              "12                                                Yes   \n",
              "13  The only reason to ban voter ID is to make fra...   \n",
              "14                                                  🤨   \n",
              "15  A Last-Ditch Warning from a Canadian to all Am...   \n",
              "16  Elon Musk: “They're allowing violent criminals...   \n",
              "17         Tomorrow’s vote is a fork in human destiny   \n",
              "18                                         Absolutely   \n",
              "19  The counter to misinformation is not censorshi...   \n",
              "20  Vote for @realDonaldTrump or the Dems will leg...   \n",
              "\n",
              "                         date  No_of_Likes  No_of_tweets  \n",
              "0   Nov 5, 2024 · 1:47 AM UTC       123595          5487  \n",
              "1   Nov 5, 2024 · 6:51 AM UTC        27582          2604  \n",
              "2   Nov 5, 2024 · 4:58 AM UTC        16609          1167  \n",
              "3   Nov 5, 2024 · 6:40 AM UTC        20997          2245  \n",
              "4   Nov 5, 2024 · 1:42 AM UTC         9340           503  \n",
              "5   Nov 5, 2024 · 6:38 AM UTC        19351          1160  \n",
              "6   Nov 5, 2024 · 6:14 AM UTC         9997           634  \n",
              "7   Nov 5, 2024 · 6:25 AM UTC         5280           370  \n",
              "8   Nov 5, 2024 · 6:25 AM UTC        26082          1346  \n",
              "9   Nov 5, 2024 · 6:05 AM UTC        42200          2385  \n",
              "10  Nov 5, 2024 · 6:01 AM UTC         8133           909  \n",
              "11  Nov 5, 2024 · 5:58 AM UTC         9384           861  \n",
              "12  Nov 5, 2024 · 5:24 AM UTC        16728          1476  \n",
              "13  Nov 5, 2024 · 4:48 AM UTC        54748          2390  \n",
              "14  Nov 5, 2024 · 4:39 AM UTC        48941          3206  \n",
              "15  Nov 5, 2024 · 1:08 AM UTC        17785           644  \n",
              "16  Nov 5, 2024 · 3:48 AM UTC        12246           708  \n",
              "17  Nov 5, 2024 · 3:01 AM UTC       105301          5302  \n",
              "18  Nov 5, 2024 · 2:43 AM UTC        23137          1250  \n",
              "19  Nov 5, 2024 · 2:29 AM UTC        45210          2078  \n",
              "20  Nov 5, 2024 · 2:28 AM UTC       222382          6135  "
            ],
            "text/html": [
              "\n",
              "  <div id=\"df-743f38bc-5323-43f4-8ab1-55857a779988\" class=\"colab-df-container\">\n",
              "    <div>\n",
              "<style scoped>\n",
              "    .dataframe tbody tr th:only-of-type {\n",
              "        vertical-align: middle;\n",
              "    }\n",
              "\n",
              "    .dataframe tbody tr th {\n",
              "        vertical-align: top;\n",
              "    }\n",
              "\n",
              "    .dataframe thead th {\n",
              "        text-align: right;\n",
              "    }\n",
              "</style>\n",
              "<table border=\"1\" class=\"dataframe\">\n",
              "  <thead>\n",
              "    <tr style=\"text-align: right;\">\n",
              "      <th></th>\n",
              "      <th>link</th>\n",
              "      <th>text</th>\n",
              "      <th>date</th>\n",
              "      <th>No_of_Likes</th>\n",
              "      <th>No_of_tweets</th>\n",
              "    </tr>\n",
              "  </thead>\n",
              "  <tbody>\n",
              "    <tr>\n",
              "      <th>0</th>\n",
              "      <td>https://twitter.com/elonmusk/status/1853614981...</td>\n",
              "      <td>Worth listening to this @JoeRogan episode befo...</td>\n",
              "      <td>Nov 5, 2024 · 1:47 AM UTC</td>\n",
              "      <td>123595</td>\n",
              "      <td>5487</td>\n",
              "    </tr>\n",
              "    <tr>\n",
              "      <th>1</th>\n",
              "      <td>https://twitter.com/elonmusk/status/1853691543...</td>\n",
              "      <td>Below are the R minus D early vote deltas in s...</td>\n",
              "      <td>Nov 5, 2024 · 6:51 AM UTC</td>\n",
              "      <td>27582</td>\n",
              "      <td>2604</td>\n",
              "    </tr>\n",
              "    <tr>\n",
              "      <th>2</th>\n",
              "      <td>https://twitter.com/beeple/status/185366319074...</td>\n",
              "      <td>LAST PUSH</td>\n",
              "      <td>Nov 5, 2024 · 4:58 AM UTC</td>\n",
              "      <td>16609</td>\n",
              "      <td>1167</td>\n",
              "    </tr>\n",
              "    <tr>\n",
              "      <th>3</th>\n",
              "      <td>https://twitter.com/elonmusk/status/1853688868...</td>\n",
              "      <td>This platform is the top source of news on Earth!</td>\n",
              "      <td>Nov 5, 2024 · 6:40 AM UTC</td>\n",
              "      <td>20997</td>\n",
              "      <td>2245</td>\n",
              "    </tr>\n",
              "    <tr>\n",
              "      <th>4</th>\n",
              "      <td>https://twitter.com/america/status/18536138266...</td>\n",
              "      <td>ELON MUSK: “Go out there and vote... for Peanu...</td>\n",
              "      <td>Nov 5, 2024 · 1:42 AM UTC</td>\n",
              "      <td>9340</td>\n",
              "      <td>503</td>\n",
              "    </tr>\n",
              "    <tr>\n",
              "      <th>5</th>\n",
              "      <td>https://twitter.com/elonmusk/status/1853688289...</td>\n",
              "      <td>Congratulations, Joshua of Arizona!</td>\n",
              "      <td>Nov 5, 2024 · 6:38 AM UTC</td>\n",
              "      <td>19351</td>\n",
              "      <td>1160</td>\n",
              "    </tr>\n",
              "    <tr>\n",
              "      <th>6</th>\n",
              "      <td>https://twitter.com/TrumpWarRoom/status/185368...</td>\n",
              "      <td>PRESIDENT TRUMP: \"To every citizen across this...</td>\n",
              "      <td>Nov 5, 2024 · 6:14 AM UTC</td>\n",
              "      <td>9997</td>\n",
              "      <td>634</td>\n",
              "    </tr>\n",
              "    <tr>\n",
              "      <th>7</th>\n",
              "      <td>https://twitter.com/AutismCapital/status/18536...</td>\n",
              "      <td>We've uploaded all of the Joe Rogan x Elon Mus...</td>\n",
              "      <td>Nov 5, 2024 · 6:25 AM UTC</td>\n",
              "      <td>5280</td>\n",
              "      <td>370</td>\n",
              "    </tr>\n",
              "    <tr>\n",
              "      <th>8</th>\n",
              "      <td>https://twitter.com/elonmusk/status/1853685052...</td>\n",
              "      <td>Great speech by @MegynKelly!</td>\n",
              "      <td>Nov 5, 2024 · 6:25 AM UTC</td>\n",
              "      <td>26082</td>\n",
              "      <td>1346</td>\n",
              "    </tr>\n",
              "    <tr>\n",
              "      <th>9</th>\n",
              "      <td>https://twitter.com/elonmusk/status/1853679967...</td>\n",
              "      <td>Vote to preserve democracy!</td>\n",
              "      <td>Nov 5, 2024 · 6:05 AM UTC</td>\n",
              "      <td>42200</td>\n",
              "      <td>2385</td>\n",
              "    </tr>\n",
              "    <tr>\n",
              "      <th>10</th>\n",
              "      <td>https://twitter.com/elonmusk/status/1853679120...</td>\n",
              "      <td>Interesting thread</td>\n",
              "      <td>Nov 5, 2024 · 6:01 AM UTC</td>\n",
              "      <td>8133</td>\n",
              "      <td>909</td>\n",
              "    </tr>\n",
              "    <tr>\n",
              "      <th>11</th>\n",
              "      <td>https://twitter.com/elonmusk/status/1853678173...</td>\n",
              "      <td>Yeah</td>\n",
              "      <td>Nov 5, 2024 · 5:58 AM UTC</td>\n",
              "      <td>9384</td>\n",
              "      <td>861</td>\n",
              "    </tr>\n",
              "    <tr>\n",
              "      <th>12</th>\n",
              "      <td>https://twitter.com/elonmusk/status/1853669602...</td>\n",
              "      <td>Yes</td>\n",
              "      <td>Nov 5, 2024 · 5:24 AM UTC</td>\n",
              "      <td>16728</td>\n",
              "      <td>1476</td>\n",
              "    </tr>\n",
              "    <tr>\n",
              "      <th>13</th>\n",
              "      <td>https://twitter.com/elonmusk/status/1853660633...</td>\n",
              "      <td>The only reason to ban voter ID is to make fra...</td>\n",
              "      <td>Nov 5, 2024 · 4:48 AM UTC</td>\n",
              "      <td>54748</td>\n",
              "      <td>2390</td>\n",
              "    </tr>\n",
              "    <tr>\n",
              "      <th>14</th>\n",
              "      <td>https://twitter.com/elonmusk/status/1853658441...</td>\n",
              "      <td>🤨</td>\n",
              "      <td>Nov 5, 2024 · 4:39 AM UTC</td>\n",
              "      <td>48941</td>\n",
              "      <td>3206</td>\n",
              "    </tr>\n",
              "    <tr>\n",
              "      <th>15</th>\n",
              "      <td>https://twitter.com/GadSaad/status/18536052979...</td>\n",
              "      <td>A Last-Ditch Warning from a Canadian to all Am...</td>\n",
              "      <td>Nov 5, 2024 · 1:08 AM UTC</td>\n",
              "      <td>17785</td>\n",
              "      <td>644</td>\n",
              "    </tr>\n",
              "    <tr>\n",
              "      <th>16</th>\n",
              "      <td>https://twitter.com/ajtourville/status/1853645...</td>\n",
              "      <td>Elon Musk: “They're allowing violent criminals...</td>\n",
              "      <td>Nov 5, 2024 · 3:48 AM UTC</td>\n",
              "      <td>12246</td>\n",
              "      <td>708</td>\n",
              "    </tr>\n",
              "    <tr>\n",
              "      <th>17</th>\n",
              "      <td>https://twitter.com/elonmusk/status/1853633719...</td>\n",
              "      <td>Tomorrow’s vote is a fork in human destiny</td>\n",
              "      <td>Nov 5, 2024 · 3:01 AM UTC</td>\n",
              "      <td>105301</td>\n",
              "      <td>5302</td>\n",
              "    </tr>\n",
              "    <tr>\n",
              "      <th>18</th>\n",
              "      <td>https://twitter.com/elonmusk/status/1853629098...</td>\n",
              "      <td>Absolutely</td>\n",
              "      <td>Nov 5, 2024 · 2:43 AM UTC</td>\n",
              "      <td>23137</td>\n",
              "      <td>1250</td>\n",
              "    </tr>\n",
              "    <tr>\n",
              "      <th>19</th>\n",
              "      <td>https://twitter.com/elonmusk/status/1853625573...</td>\n",
              "      <td>The counter to misinformation is not censorshi...</td>\n",
              "      <td>Nov 5, 2024 · 2:29 AM UTC</td>\n",
              "      <td>45210</td>\n",
              "      <td>2078</td>\n",
              "    </tr>\n",
              "    <tr>\n",
              "      <th>20</th>\n",
              "      <td>https://twitter.com/elonmusk/status/1853625288...</td>\n",
              "      <td>Vote for @realDonaldTrump or the Dems will leg...</td>\n",
              "      <td>Nov 5, 2024 · 2:28 AM UTC</td>\n",
              "      <td>222382</td>\n",
              "      <td>6135</td>\n",
              "    </tr>\n",
              "  </tbody>\n",
              "</table>\n",
              "</div>\n",
              "    <div class=\"colab-df-buttons\">\n",
              "\n",
              "  <div class=\"colab-df-container\">\n",
              "    <button class=\"colab-df-convert\" onclick=\"convertToInteractive('df-743f38bc-5323-43f4-8ab1-55857a779988')\"\n",
              "            title=\"Convert this dataframe to an interactive table.\"\n",
              "            style=\"display:none;\">\n",
              "\n",
              "  <svg xmlns=\"http://www.w3.org/2000/svg\" height=\"24px\" viewBox=\"0 -960 960 960\">\n",
              "    <path d=\"M120-120v-720h720v720H120Zm60-500h600v-160H180v160Zm220 220h160v-160H400v160Zm0 220h160v-160H400v160ZM180-400h160v-160H180v160Zm440 0h160v-160H620v160ZM180-180h160v-160H180v160Zm440 0h160v-160H620v160Z\"/>\n",
              "  </svg>\n",
              "    </button>\n",
              "\n",
              "  <style>\n",
              "    .colab-df-container {\n",
              "      display:flex;\n",
              "      gap: 12px;\n",
              "    }\n",
              "\n",
              "    .colab-df-convert {\n",
              "      background-color: #E8F0FE;\n",
              "      border: none;\n",
              "      border-radius: 50%;\n",
              "      cursor: pointer;\n",
              "      display: none;\n",
              "      fill: #1967D2;\n",
              "      height: 32px;\n",
              "      padding: 0 0 0 0;\n",
              "      width: 32px;\n",
              "    }\n",
              "\n",
              "    .colab-df-convert:hover {\n",
              "      background-color: #E2EBFA;\n",
              "      box-shadow: 0px 1px 2px rgba(60, 64, 67, 0.3), 0px 1px 3px 1px rgba(60, 64, 67, 0.15);\n",
              "      fill: #174EA6;\n",
              "    }\n",
              "\n",
              "    .colab-df-buttons div {\n",
              "      margin-bottom: 4px;\n",
              "    }\n",
              "\n",
              "    [theme=dark] .colab-df-convert {\n",
              "      background-color: #3B4455;\n",
              "      fill: #D2E3FC;\n",
              "    }\n",
              "\n",
              "    [theme=dark] .colab-df-convert:hover {\n",
              "      background-color: #434B5C;\n",
              "      box-shadow: 0px 1px 3px 1px rgba(0, 0, 0, 0.15);\n",
              "      filter: drop-shadow(0px 1px 2px rgba(0, 0, 0, 0.3));\n",
              "      fill: #FFFFFF;\n",
              "    }\n",
              "  </style>\n",
              "\n",
              "    <script>\n",
              "      const buttonEl =\n",
              "        document.querySelector('#df-743f38bc-5323-43f4-8ab1-55857a779988 button.colab-df-convert');\n",
              "      buttonEl.style.display =\n",
              "        google.colab.kernel.accessAllowed ? 'block' : 'none';\n",
              "\n",
              "      async function convertToInteractive(key) {\n",
              "        const element = document.querySelector('#df-743f38bc-5323-43f4-8ab1-55857a779988');\n",
              "        const dataTable =\n",
              "          await google.colab.kernel.invokeFunction('convertToInteractive',\n",
              "                                                    [key], {});\n",
              "        if (!dataTable) return;\n",
              "\n",
              "        const docLinkHtml = 'Like what you see? Visit the ' +\n",
              "          '<a target=\"_blank\" href=https://colab.research.google.com/notebooks/data_table.ipynb>data table notebook</a>'\n",
              "          + ' to learn more about interactive tables.';\n",
              "        element.innerHTML = '';\n",
              "        dataTable['output_type'] = 'display_data';\n",
              "        await google.colab.output.renderOutput(dataTable, element);\n",
              "        const docLink = document.createElement('div');\n",
              "        docLink.innerHTML = docLinkHtml;\n",
              "        element.appendChild(docLink);\n",
              "      }\n",
              "    </script>\n",
              "  </div>\n",
              "\n",
              "\n",
              "<div id=\"df-55ba23cb-d471-4b36-9cb1-6621b3739127\">\n",
              "  <button class=\"colab-df-quickchart\" onclick=\"quickchart('df-55ba23cb-d471-4b36-9cb1-6621b3739127')\"\n",
              "            title=\"Suggest charts\"\n",
              "            style=\"display:none;\">\n",
              "\n",
              "<svg xmlns=\"http://www.w3.org/2000/svg\" height=\"24px\"viewBox=\"0 0 24 24\"\n",
              "     width=\"24px\">\n",
              "    <g>\n",
              "        <path d=\"M19 3H5c-1.1 0-2 .9-2 2v14c0 1.1.9 2 2 2h14c1.1 0 2-.9 2-2V5c0-1.1-.9-2-2-2zM9 17H7v-7h2v7zm4 0h-2V7h2v10zm4 0h-2v-4h2v4z\"/>\n",
              "    </g>\n",
              "</svg>\n",
              "  </button>\n",
              "\n",
              "<style>\n",
              "  .colab-df-quickchart {\n",
              "      --bg-color: #E8F0FE;\n",
              "      --fill-color: #1967D2;\n",
              "      --hover-bg-color: #E2EBFA;\n",
              "      --hover-fill-color: #174EA6;\n",
              "      --disabled-fill-color: #AAA;\n",
              "      --disabled-bg-color: #DDD;\n",
              "  }\n",
              "\n",
              "  [theme=dark] .colab-df-quickchart {\n",
              "      --bg-color: #3B4455;\n",
              "      --fill-color: #D2E3FC;\n",
              "      --hover-bg-color: #434B5C;\n",
              "      --hover-fill-color: #FFFFFF;\n",
              "      --disabled-bg-color: #3B4455;\n",
              "      --disabled-fill-color: #666;\n",
              "  }\n",
              "\n",
              "  .colab-df-quickchart {\n",
              "    background-color: var(--bg-color);\n",
              "    border: none;\n",
              "    border-radius: 50%;\n",
              "    cursor: pointer;\n",
              "    display: none;\n",
              "    fill: var(--fill-color);\n",
              "    height: 32px;\n",
              "    padding: 0;\n",
              "    width: 32px;\n",
              "  }\n",
              "\n",
              "  .colab-df-quickchart:hover {\n",
              "    background-color: var(--hover-bg-color);\n",
              "    box-shadow: 0 1px 2px rgba(60, 64, 67, 0.3), 0 1px 3px 1px rgba(60, 64, 67, 0.15);\n",
              "    fill: var(--button-hover-fill-color);\n",
              "  }\n",
              "\n",
              "  .colab-df-quickchart-complete:disabled,\n",
              "  .colab-df-quickchart-complete:disabled:hover {\n",
              "    background-color: var(--disabled-bg-color);\n",
              "    fill: var(--disabled-fill-color);\n",
              "    box-shadow: none;\n",
              "  }\n",
              "\n",
              "  .colab-df-spinner {\n",
              "    border: 2px solid var(--fill-color);\n",
              "    border-color: transparent;\n",
              "    border-bottom-color: var(--fill-color);\n",
              "    animation:\n",
              "      spin 1s steps(1) infinite;\n",
              "  }\n",
              "\n",
              "  @keyframes spin {\n",
              "    0% {\n",
              "      border-color: transparent;\n",
              "      border-bottom-color: var(--fill-color);\n",
              "      border-left-color: var(--fill-color);\n",
              "    }\n",
              "    20% {\n",
              "      border-color: transparent;\n",
              "      border-left-color: var(--fill-color);\n",
              "      border-top-color: var(--fill-color);\n",
              "    }\n",
              "    30% {\n",
              "      border-color: transparent;\n",
              "      border-left-color: var(--fill-color);\n",
              "      border-top-color: var(--fill-color);\n",
              "      border-right-color: var(--fill-color);\n",
              "    }\n",
              "    40% {\n",
              "      border-color: transparent;\n",
              "      border-right-color: var(--fill-color);\n",
              "      border-top-color: var(--fill-color);\n",
              "    }\n",
              "    60% {\n",
              "      border-color: transparent;\n",
              "      border-right-color: var(--fill-color);\n",
              "    }\n",
              "    80% {\n",
              "      border-color: transparent;\n",
              "      border-right-color: var(--fill-color);\n",
              "      border-bottom-color: var(--fill-color);\n",
              "    }\n",
              "    90% {\n",
              "      border-color: transparent;\n",
              "      border-bottom-color: var(--fill-color);\n",
              "    }\n",
              "  }\n",
              "</style>\n",
              "\n",
              "  <script>\n",
              "    async function quickchart(key) {\n",
              "      const quickchartButtonEl =\n",
              "        document.querySelector('#' + key + ' button');\n",
              "      quickchartButtonEl.disabled = true;  // To prevent multiple clicks.\n",
              "      quickchartButtonEl.classList.add('colab-df-spinner');\n",
              "      try {\n",
              "        const charts = await google.colab.kernel.invokeFunction(\n",
              "            'suggestCharts', [key], {});\n",
              "      } catch (error) {\n",
              "        console.error('Error during call to suggestCharts:', error);\n",
              "      }\n",
              "      quickchartButtonEl.classList.remove('colab-df-spinner');\n",
              "      quickchartButtonEl.classList.add('colab-df-quickchart-complete');\n",
              "    }\n",
              "    (() => {\n",
              "      let quickchartButtonEl =\n",
              "        document.querySelector('#df-55ba23cb-d471-4b36-9cb1-6621b3739127 button');\n",
              "      quickchartButtonEl.style.display =\n",
              "        google.colab.kernel.accessAllowed ? 'block' : 'none';\n",
              "    })();\n",
              "  </script>\n",
              "</div>\n",
              "\n",
              "  <div id=\"id_15c1512b-9d3f-43bf-84f2-48cef5f2edea\">\n",
              "    <style>\n",
              "      .colab-df-generate {\n",
              "        background-color: #E8F0FE;\n",
              "        border: none;\n",
              "        border-radius: 50%;\n",
              "        cursor: pointer;\n",
              "        display: none;\n",
              "        fill: #1967D2;\n",
              "        height: 32px;\n",
              "        padding: 0 0 0 0;\n",
              "        width: 32px;\n",
              "      }\n",
              "\n",
              "      .colab-df-generate:hover {\n",
              "        background-color: #E2EBFA;\n",
              "        box-shadow: 0px 1px 2px rgba(60, 64, 67, 0.3), 0px 1px 3px 1px rgba(60, 64, 67, 0.15);\n",
              "        fill: #174EA6;\n",
              "      }\n",
              "\n",
              "      [theme=dark] .colab-df-generate {\n",
              "        background-color: #3B4455;\n",
              "        fill: #D2E3FC;\n",
              "      }\n",
              "\n",
              "      [theme=dark] .colab-df-generate:hover {\n",
              "        background-color: #434B5C;\n",
              "        box-shadow: 0px 1px 3px 1px rgba(0, 0, 0, 0.15);\n",
              "        filter: drop-shadow(0px 1px 2px rgba(0, 0, 0, 0.3));\n",
              "        fill: #FFFFFF;\n",
              "      }\n",
              "    </style>\n",
              "    <button class=\"colab-df-generate\" onclick=\"generateWithVariable('data')\"\n",
              "            title=\"Generate code using this dataframe.\"\n",
              "            style=\"display:none;\">\n",
              "\n",
              "  <svg xmlns=\"http://www.w3.org/2000/svg\" height=\"24px\"viewBox=\"0 0 24 24\"\n",
              "       width=\"24px\">\n",
              "    <path d=\"M7,19H8.4L18.45,9,17,7.55,7,17.6ZM5,21V16.75L18.45,3.32a2,2,0,0,1,2.83,0l1.4,1.43a1.91,1.91,0,0,1,.58,1.4,1.91,1.91,0,0,1-.58,1.4L9.25,21ZM18.45,9,17,7.55Zm-12,3A5.31,5.31,0,0,0,4.9,8.1,5.31,5.31,0,0,0,1,6.5,5.31,5.31,0,0,0,4.9,4.9,5.31,5.31,0,0,0,6.5,1,5.31,5.31,0,0,0,8.1,4.9,5.31,5.31,0,0,0,12,6.5,5.46,5.46,0,0,0,6.5,12Z\"/>\n",
              "  </svg>\n",
              "    </button>\n",
              "    <script>\n",
              "      (() => {\n",
              "      const buttonEl =\n",
              "        document.querySelector('#id_15c1512b-9d3f-43bf-84f2-48cef5f2edea button.colab-df-generate');\n",
              "      buttonEl.style.display =\n",
              "        google.colab.kernel.accessAllowed ? 'block' : 'none';\n",
              "\n",
              "      buttonEl.onclick = () => {\n",
              "        google.colab.notebook.generateWithVariable('data');\n",
              "      }\n",
              "      })();\n",
              "    </script>\n",
              "  </div>\n",
              "\n",
              "    </div>\n",
              "  </div>\n"
            ],
            "application/vnd.google.colaboratory.intrinsic+json": {
              "type": "dataframe",
              "variable_name": "data",
              "summary": "{\n  \"name\": \"data\",\n  \"rows\": 21,\n  \"fields\": [\n    {\n      \"column\": \"link\",\n      \"properties\": {\n        \"dtype\": \"string\",\n        \"num_unique_values\": 21,\n        \"samples\": [\n          \"https://twitter.com/elonmusk/status/1853614981624840695#m\",\n          \"https://twitter.com/elonmusk/status/1853633719791124681#m\",\n          \"https://twitter.com/GadSaad/status/1853605297924853785#m\"\n        ],\n        \"semantic_type\": \"\",\n        \"description\": \"\"\n      }\n    },\n    {\n      \"column\": \"text\",\n      \"properties\": {\n        \"dtype\": \"string\",\n        \"num_unique_values\": 21,\n        \"samples\": [\n          \"Worth listening to this @JoeRogan episode before end of voting tomorrow\",\n          \"Tomorrow\\u2019s vote is a fork in human destiny\",\n          \"A Last-Ditch Warning from a Canadian to all Americans.\"\n        ],\n        \"semantic_type\": \"\",\n        \"description\": \"\"\n      }\n    },\n    {\n      \"column\": \"date\",\n      \"properties\": {\n        \"dtype\": \"string\",\n        \"num_unique_values\": 20,\n        \"samples\": [\n          \"Nov 5, 2024 \\u00b7 1:47 AM UTC\",\n          \"Nov 5, 2024 \\u00b7 2:43 AM UTC\",\n          \"Nov 5, 2024 \\u00b7 3:48 AM UTC\"\n        ],\n        \"semantic_type\": \"\",\n        \"description\": \"\"\n      }\n    },\n    {\n      \"column\": \"No_of_Likes\",\n      \"properties\": {\n        \"dtype\": \"number\",\n        \"std\": 51761,\n        \"min\": 5280,\n        \"max\": 222382,\n        \"num_unique_values\": 21,\n        \"samples\": [\n          123595,\n          105301,\n          17785\n        ],\n        \"semantic_type\": \"\",\n        \"description\": \"\"\n      }\n    },\n    {\n      \"column\": \"No_of_tweets\",\n      \"properties\": {\n        \"dtype\": \"number\",\n        \"std\": 1699,\n        \"min\": 370,\n        \"max\": 6135,\n        \"num_unique_values\": 21,\n        \"samples\": [\n          5487,\n          5302,\n          644\n        ],\n        \"semantic_type\": \"\",\n        \"description\": \"\"\n      }\n    }\n  ]\n}"
            }
          },
          "metadata": {},
          "execution_count": 21
        }
      ]
    },
    {
      "cell_type": "code",
      "source": [
        "data.to_csv('elonmuskdata.csv')"
      ],
      "metadata": {
        "id": "JvomiD5Zy7Fh"
      },
      "execution_count": 22,
      "outputs": []
    },
    {
      "cell_type": "markdown",
      "source": [
        "# 2. Preprocessing"
      ],
      "metadata": {
        "id": "rGY7pOfM2O5D"
      }
    },
    {
      "cell_type": "code",
      "source": [
        "def preprocess_text(text):\n",
        "    \"\"\"\n",
        "    Preprocesses text by:\n",
        "    1. Removing URLs.\n",
        "    2. Removing mentions and hashtags.\n",
        "    3. Removing special characters and digits.\n",
        "    4. Converting text to lowercase.\n",
        "    \"\"\"\n",
        "    # Remove URLs\n",
        "    text = re.sub(r'http\\S+|www\\S+|https\\S+', '', text, flags=re.MULTILINE)\n",
        "    # Remove mentions (@username) and hashtags (#hashtag)\n",
        "    text = re.sub(r'@\\w+|#\\w+', '', text)\n",
        "    # Remove special characters and digits\n",
        "    text = re.sub(r'[^A-Za-z\\s]', '', text)\n",
        "    # Convert to lowercase\n",
        "    text = text.lower()\n",
        "    return text"
      ],
      "metadata": {
        "id": "Kf5Eqy0b2NXZ"
      },
      "execution_count": 44,
      "outputs": []
    },
    {
      "cell_type": "code",
      "source": [
        "# Load Data\n",
        "data = pd.read_csv('/content/elonmuskdata.csv')\n",
        "\n",
        "# Apply Preprocessing\n",
        "data['Cleaned Tweet Text'] = data['text'].apply(preprocess_text)\n",
        "\n",
        "# Save Preprocessed Data\n",
        "data.to_csv('preprocessed_elonmuskdata.csv', index=False)\n",
        "print(\"Preprocessed data saved to 'preprocessed_elonmuskdata.csv'.\")"
      ],
      "metadata": {
        "colab": {
          "base_uri": "https://localhost:8080/"
        },
        "id": "g_IBy_bG4wpA",
        "outputId": "604d40a1-39e6-4aec-fd97-0ed768727d81"
      },
      "execution_count": 56,
      "outputs": [
        {
          "output_type": "stream",
          "name": "stdout",
          "text": [
            "Preprocessed data saved to 'preprocessed_elonmuskdata.csv'.\n"
          ]
        }
      ]
    },
    {
      "cell_type": "markdown",
      "source": [
        "# Sentiment Analysis of Tweets"
      ],
      "metadata": {
        "id": "Ssk5acP1c8xh"
      }
    },
    {
      "cell_type": "markdown",
      "source": [
        "for sentiment analysis we are Using Textblob is a popular Python library for natural language processing (NLP) that provides easy-to-use tools for tasks like sentiment analysis, part-of-speech tagging, noun phrase extraction, translation,"
      ],
      "metadata": {
        "id": "wPKJto6MzB71"
      }
    },
    {
      "cell_type": "markdown",
      "source": [
        "### Sentiment scores typically range from -1 to 1:\n",
        "\n",
        "    Positive Sentiment (0 to 1): A score closer to 1 indicates the tweet conveys a positive emotion. For example, the tweet at 1:42 PM UTC has a sentiment of 0.488, which is fairly positive.\n",
        "    Neutral Sentiment (0): A score of 0 represents neutral sentiment—neither positive nor negative emotions are detected. The tweet at 8:35 AM UTC with a sentiment of 0.000 is neutral.\n",
        "    Negative Sentiment (-1 to 0): A score closer to -1 indicates the tweet conveys negative emotion. None of the tweets in the provided data have a negative sentiment, but if there were, you’d see negative values here."
      ],
      "metadata": {
        "id": "bi3m_GD-zJRD"
      }
    },
    {
      "cell_type": "markdown",
      "source": [
        "# Sentiment Analysis for UOH Tweets"
      ],
      "metadata": {
        "id": "Q4g39iN4zQYS"
      }
    },
    {
      "cell_type": "code",
      "source": [
        "import pandas as pd"
      ],
      "metadata": {
        "id": "WNBJoTJRddd3"
      },
      "execution_count": null,
      "outputs": []
    },
    {
      "cell_type": "code",
      "source": [
        "# Load data (assuming your data is in a CSV file named 'data.csv')\n",
        "data = pd.read_csv('/content/uoh_tweets.csv')"
      ],
      "metadata": {
        "id": "fBQoiUJKdeZN"
      },
      "execution_count": null,
      "outputs": []
    },
    {
      "cell_type": "code",
      "source": [
        "from textblob import TextBlob\n",
        "\n",
        "# Sentiment Analysis\n",
        "data['Sentiment'] = data['Tweet Text'].apply(lambda tweet: TextBlob(tweet).sentiment.polarity)\n",
        "\n",
        "# Categorize Sentiment\n",
        "data['Sentiment_Category'] = data['Sentiment'].apply(lambda polarity: 'Positive' if polarity > 0 else ('Negative' if polarity < 0 else 'Neutral'))\n",
        "\n",
        "# Display sentiment distribution\n",
        "print(data['Sentiment_Category'].value_counts())\n",
        "\n",
        "# Visualize sentiment distribution\n",
        "data['Sentiment_Category'].value_counts().plot(kind='bar', title='Sentiment Analysis on University of Hyderabad Tweets')"
      ],
      "metadata": {
        "colab": {
          "base_uri": "https://localhost:8080/",
          "height": 641
        },
        "id": "iKe90alJc8bQ",
        "outputId": "3137dea0-4629-4d0f-a33f-3dede71f5c4b"
      },
      "execution_count": null,
      "outputs": [
        {
          "output_type": "stream",
          "name": "stdout",
          "text": [
            "Sentiment_Category\n",
            "Positive    54\n",
            "Neutral     41\n",
            "Negative     2\n",
            "Name: count, dtype: int64\n"
          ]
        },
        {
          "output_type": "execute_result",
          "data": {
            "text/plain": [
              "<Axes: title={'center': 'Sentiment Analysis on University of Hyderabad Tweets'}, xlabel='Sentiment_Category'>"
            ]
          },
          "metadata": {},
          "execution_count": 23
        },
        {
          "output_type": "display_data",
          "data": {
            "text/plain": [
              "<Figure size 640x480 with 1 Axes>"
            ],
            "image/png": "[encoded data removed]"
          },
          "metadata": {}
        }
      ]
    },
    {
      "cell_type": "markdown",
      "source": [],
      "metadata": {
        "id": "ftU6T4GDzO_f"
      }
    },
    {
      "cell_type": "markdown",
      "source": [
        "# Sentiment Analysis for Elonmusk Tweets"
      ],
      "metadata": {
        "id": "cvCubsxmzVDG"
      }
    },
    {
      "cell_type": "code",
      "source": [
        "from textblob import TextBlob"
      ],
      "metadata": {
        "id": "foLbULxJzbvS"
      },
      "execution_count": 23,
      "outputs": []
    },
    {
      "cell_type": "code",
      "source": [
        "# Load the CSV file into a DataFrame\n",
        "df = pd.read_csv('/content/preprocessed_elonmuskdata.csv')"
      ],
      "metadata": {
        "id": "Phrvh43mzilu"
      },
      "execution_count": 57,
      "outputs": []
    },
    {
      "cell_type": "code",
      "source": [
        "# Perform sentiment analysis using TextBlob\n",
        "df['Sentiment'] = df['text'].apply(lambda tweet: TextBlob(tweet).sentiment.polarity)\n",
        "\n",
        "# Categorize sentiment\n",
        "df['Sentiment_Category'] = df['Sentiment'].apply(lambda polarity: 'Positive' if polarity > 0 else ('Negative' if polarity < 0 else 'Neutral'))\n",
        "\n",
        "# Display sentiment distribution\n",
        "print(df['Sentiment_Category'].value_counts())\n",
        "\n",
        "# Visualize sentiment distribution\n",
        "df['Sentiment_Category'].value_counts().plot(kind='bar', title='Sentiment Analysis on Elon Musk Tweets')\n",
        "plt.show()"
      ],
      "metadata": {
        "colab": {
          "base_uri": "https://localhost:8080/",
          "height": 607
        },
        "id": "PK0N4zYy0MNp",
        "outputId": "d88cf628-2d57-4e5a-934e-5faf95e1cbc5"
      },
      "execution_count": 58,
      "outputs": [
        {
          "output_type": "stream",
          "name": "stdout",
          "text": [
            "Sentiment_Category\n",
            "Positive    11\n",
            "Neutral      8\n",
            "Negative     2\n",
            "Name: count, dtype: int64\n"
          ]
        },
        {
          "output_type": "display_data",
          "data": {
            "text/plain": [
              "<Figure size 640x480 with 1 Axes>"
            ],
            "image/png": "[encoded data removed]"
          },
          "metadata": {}
        }
      ]
    },
    {
      "cell_type": "markdown",
      "source": [
        "# Topic Modeling for UOH Tweets"
      ],
      "metadata": {
        "id": "z2boXCjieUSp"
      }
    },
    {
      "cell_type": "code",
      "source": [
        "from sklearn.feature_extraction.text import CountVectorizer\n",
        "from sklearn.decomposition import LatentDirichletAllocation\n",
        "\n",
        "# Preprocess Tweets\n",
        "vectorizer = CountVectorizer(stop_words='english')\n",
        "# Use the 'Tweet Text' column instead of the file path\n",
        "X = vectorizer.fit_transform(data['Tweet Text'])\n",
        "\n",
        "# Topic Modeling\n",
        "lda = LatentDirichletAllocation(n_components=5, random_state=42)\n",
        "lda.fit(X)\n",
        "\n",
        "# Display Topics\n",
        "for index, topic in enumerate(lda.components_):\n",
        "    print(f\"Topic #{index}\")\n",
        "    print([vectorizer.get_feature_names_out()[i] for i in topic.argsort()[-10:]])"
      ],
      "metadata": {
        "colab": {
          "base_uri": "https://localhost:8080/"
        },
        "id": "vCQZgnGpbRVB",
        "outputId": "24d4b301-1282-4f21-9523-da816336fb76"
      },
      "execution_count": null,
      "outputs": [
        {
          "output_type": "stream",
          "name": "stdout",
          "text": [
            "Topic #0\n",
            "['cell', 'coes', 'digitalcitizensummit', 'hosted', 'ai', '2024', 'defindia', 'amp', 'rt', 'https']\n",
            "Topic #1\n",
            "['sciences', 'physics', '2024', 'prof', 'school', 'rt', 'uoh', 'hyderabad', 'university', 'https']\n",
            "Topic #2\n",
            "['rt', '2024', 'prof', 'department', 'sciences', 'school', 'dr', 'hyderabad', 'university', 'https']\n",
            "Topic #3\n",
            "['https', 'shri', 'union', 'minister', 'hon', 'ble', 'dpradhanbjp', 'eduminofindia', 'education', 'rt']\n",
            "Topic #4\n",
            "['india', 'school', 'hyderabad', 'physics', '2024', 'education', 'university', 'dpradhanbjp', 'https', 'rt']\n"
          ]
        }
      ]
    },
    {
      "cell_type": "markdown",
      "source": [
        "## Topic modelling for elonmusk data"
      ],
      "metadata": {
        "id": "JaqjVGF20kly"
      }
    },
    {
      "cell_type": "code",
      "source": [
        "# Load the CSV file into a DataFrame\n",
        "df = pd.read_csv('/content/elonmuskdata.csv')"
      ],
      "metadata": {
        "id": "r8pijQoF0z0N"
      },
      "execution_count": 35,
      "outputs": []
    },
    {
      "cell_type": "code",
      "source": [
        "# Preprocess Tweets\n",
        "vectorizer = CountVectorizer(stop_words='english')\n",
        "X = vectorizer.fit_transform(df['text'])"
      ],
      "metadata": {
        "id": "L1eqpc4N0-N6"
      },
      "execution_count": 40,
      "outputs": []
    },
    {
      "cell_type": "code",
      "source": [
        "# Apply LDA for Topic Modeling\n",
        "lda = LatentDirichletAllocation(n_components=5, random_state=42)\n",
        "lda.fit(X)"
      ],
      "metadata": {
        "colab": {
          "base_uri": "https://localhost:8080/",
          "height": 80
        },
        "id": "dLDW5Roc0171",
        "outputId": "98c8864b-959d-472f-a739-aa6af29e8e35"
      },
      "execution_count": 41,
      "outputs": [
        {
          "output_type": "execute_result",
          "data": {
            "text/plain": [
              "LatentDirichletAllocation(n_components=5, random_state=42)"
            ],
            "text/html": [
              "<style>#sk-container-id-2 {\n",
              "  /* Definition of color scheme common for light and dark mode */\n",
              "  --sklearn-color-text: black;\n",
              "  --sklearn-color-line: gray;\n",
              "  /* Definition of color scheme for unfitted estimators */\n",
              "  --sklearn-color-unfitted-level-0: #fff5e6;\n",
              "  --sklearn-color-unfitted-level-1: #f6e4d2;\n",
              "  --sklearn-color-unfitted-level-2: #ffe0b3;\n",
              "  --sklearn-color-unfitted-level-3: chocolate;\n",
              "  /* Definition of color scheme for fitted estimators */\n",
              "  --sklearn-color-fitted-level-0: #f0f8ff;\n",
              "  --sklearn-color-fitted-level-1: #d4ebff;\n",
              "  --sklearn-color-fitted-level-2: #b3dbfd;\n",
              "  --sklearn-color-fitted-level-3: cornflowerblue;\n",
              "\n",
              "  /* Specific color for light theme */\n",
              "  --sklearn-color-text-on-default-background: var(--sg-text-color, var(--theme-code-foreground, var(--jp-content-font-color1, black)));\n",
              "  --sklearn-color-background: var(--sg-background-color, var(--theme-background, var(--jp-layout-color0, white)));\n",
              "  --sklearn-color-border-box: var(--sg-text-color, var(--theme-code-foreground, var(--jp-content-font-color1, black)));\n",
              "  --sklearn-color-icon: #696969;\n",
              "\n",
              "  @media (prefers-color-scheme: dark) {\n",
              "    /* Redefinition of color scheme for dark theme */\n",
              "    --sklearn-color-text-on-default-background: var(--sg-text-color, var(--theme-code-foreground, var(--jp-content-font-color1, white)));\n",
              "    --sklearn-color-background: var(--sg-background-color, var(--theme-background, var(--jp-layout-color0, #111)));\n",
              "    --sklearn-color-border-box: var(--sg-text-color, var(--theme-code-foreground, var(--jp-content-font-color1, white)));\n",
              "    --sklearn-color-icon: #878787;\n",
              "  }\n",
              "}\n",
              "\n",
              "#sk-container-id-2 {\n",
              "  color: var(--sklearn-color-text);\n",
              "}\n",
              "\n",
              "#sk-container-id-2 pre {\n",
              "  padding: 0;\n",
              "}\n",
              "\n",
              "#sk-container-id-2 input.sk-hidden--visually {\n",
              "  border: 0;\n",
              "  clip: rect(1px 1px 1px 1px);\n",
              "  clip: rect(1px, 1px, 1px, 1px);\n",
              "  height: 1px;\n",
              "  margin: -1px;\n",
              "  overflow: hidden;\n",
              "  padding: 0;\n",
              "  position: absolute;\n",
              "  width: 1px;\n",
              "}\n",
              "\n",
              "#sk-container-id-2 div.sk-dashed-wrapped {\n",
              "  border: 1px dashed var(--sklearn-color-line);\n",
              "  margin: 0 0.4em 0.5em 0.4em;\n",
              "  box-sizing: border-box;\n",
              "  padding-bottom: 0.4em;\n",
              "  background-color: var(--sklearn-color-background);\n",
              "}\n",
              "\n",
              "#sk-container-id-2 div.sk-container {\n",
              "  /* jupyter's `normalize.less` sets `[hidden] { display: none; }`\n",
              "     but bootstrap.min.css set `[hidden] { display: none !important; }`\n",
              "     so we also need the `!important` here to be able to override the\n",
              "     default hidden behavior on the sphinx rendered scikit-learn.org.\n",
              "     See: https://github.com/scikit-learn/scikit-learn/issues/21755 */\n",
              "  display: inline-block !important;\n",
              "  position: relative;\n",
              "}\n",
              "\n",
              "#sk-container-id-2 div.sk-text-repr-fallback {\n",
              "  display: none;\n",
              "}\n",
              "\n",
              "div.sk-parallel-item,\n",
              "div.sk-serial,\n",
              "div.sk-item {\n",
              "  /* draw centered vertical line to link estimators */\n",
              "  background-image: linear-gradient(var(--sklearn-color-text-on-default-background), var(--sklearn-color-text-on-default-background));\n",
              "  background-size: 2px 100%;\n",
              "  background-repeat: no-repeat;\n",
              "  background-position: center center;\n",
              "}\n",
              "\n",
              "/* Parallel-specific style estimator block */\n",
              "\n",
              "#sk-container-id-2 div.sk-parallel-item::after {\n",
              "  content: \"\";\n",
              "  width: 100%;\n",
              "  border-bottom: 2px solid var(--sklearn-color-text-on-default-background);\n",
              "  flex-grow: 1;\n",
              "}\n",
              "\n",
              "#sk-container-id-2 div.sk-parallel {\n",
              "  display: flex;\n",
              "  align-items: stretch;\n",
              "  justify-content: center;\n",
              "  background-color: var(--sklearn-color-background);\n",
              "  position: relative;\n",
              "}\n",
              "\n",
              "#sk-container-id-2 div.sk-parallel-item {\n",
              "  display: flex;\n",
              "  flex-direction: column;\n",
              "}\n",
              "\n",
              "#sk-container-id-2 div.sk-parallel-item:first-child::after {\n",
              "  align-self: flex-end;\n",
              "  width: 50%;\n",
              "}\n",
              "\n",
              "#sk-container-id-2 div.sk-parallel-item:last-child::after {\n",
              "  align-self: flex-start;\n",
              "  width: 50%;\n",
              "}\n",
              "\n",
              "#sk-container-id-2 div.sk-parallel-item:only-child::after {\n",
              "  width: 0;\n",
              "}\n",
              "\n",
              "/* Serial-specific style estimator block */\n",
              "\n",
              "#sk-container-id-2 div.sk-serial {\n",
              "  display: flex;\n",
              "  flex-direction: column;\n",
              "  align-items: center;\n",
              "  background-color: var(--sklearn-color-background);\n",
              "  padding-right: 1em;\n",
              "  padding-left: 1em;\n",
              "}\n",
              "\n",
              "\n",
              "/* Toggleable style: style used for estimator/Pipeline/ColumnTransformer box that is\n",
              "clickable and can be expanded/collapsed.\n",
              "- Pipeline and ColumnTransformer use this feature and define the default style\n",
              "- Estimators will overwrite some part of the style using the `sk-estimator` class\n",
              "*/\n",
              "\n",
              "/* Pipeline and ColumnTransformer style (default) */\n",
              "\n",
              "#sk-container-id-2 div.sk-toggleable {\n",
              "  /* Default theme specific background. It is overwritten whether we have a\n",
              "  specific estimator or a Pipeline/ColumnTransformer */\n",
              "  background-color: var(--sklearn-color-background);\n",
              "}\n",
              "\n",
              "/* Toggleable label */\n",
              "#sk-container-id-2 label.sk-toggleable__label {\n",
              "  cursor: pointer;\n",
              "  display: block;\n",
              "  width: 100%;\n",
              "  margin-bottom: 0;\n",
              "  padding: 0.5em;\n",
              "  box-sizing: border-box;\n",
              "  text-align: center;\n",
              "}\n",
              "\n",
              "#sk-container-id-2 label.sk-toggleable__label-arrow:before {\n",
              "  /* Arrow on the left of the label */\n",
              "  content: \"▸\";\n",
              "  float: left;\n",
              "  margin-right: 0.25em;\n",
              "  color: var(--sklearn-color-icon);\n",
              "}\n",
              "\n",
              "#sk-container-id-2 label.sk-toggleable__label-arrow:hover:before {\n",
              "  color: var(--sklearn-color-text);\n",
              "}\n",
              "\n",
              "/* Toggleable content - dropdown */\n",
              "\n",
              "#sk-container-id-2 div.sk-toggleable__content {\n",
              "  max-height: 0;\n",
              "  max-width: 0;\n",
              "  overflow: hidden;\n",
              "  text-align: left;\n",
              "  /* unfitted */\n",
              "  background-color: var(--sklearn-color-unfitted-level-0);\n",
              "}\n",
              "\n",
              "#sk-container-id-2 div.sk-toggleable__content.fitted {\n",
              "  /* fitted */\n",
              "  background-color: var(--sklearn-color-fitted-level-0);\n",
              "}\n",
              "\n",
              "#sk-container-id-2 div.sk-toggleable__content pre {\n",
              "  margin: 0.2em;\n",
              "  border-radius: 0.25em;\n",
              "  color: var(--sklearn-color-text);\n",
              "  /* unfitted */\n",
              "  background-color: var(--sklearn-color-unfitted-level-0);\n",
              "}\n",
              "\n",
              "#sk-container-id-2 div.sk-toggleable__content.fitted pre {\n",
              "  /* unfitted */\n",
              "  background-color: var(--sklearn-color-fitted-level-0);\n",
              "}\n",
              "\n",
              "#sk-container-id-2 input.sk-toggleable__control:checked~div.sk-toggleable__content {\n",
              "  /* Expand drop-down */\n",
              "  max-height: 200px;\n",
              "  max-width: 100%;\n",
              "  overflow: auto;\n",
              "}\n",
              "\n",
              "#sk-container-id-2 input.sk-toggleable__control:checked~label.sk-toggleable__label-arrow:before {\n",
              "  content: \"▾\";\n",
              "}\n",
              "\n",
              "/* Pipeline/ColumnTransformer-specific style */\n",
              "\n",
              "#sk-container-id-2 div.sk-label input.sk-toggleable__control:checked~label.sk-toggleable__label {\n",
              "  color: var(--sklearn-color-text);\n",
              "  background-color: var(--sklearn-color-unfitted-level-2);\n",
              "}\n",
              "\n",
              "#sk-container-id-2 div.sk-label.fitted input.sk-toggleable__control:checked~label.sk-toggleable__label {\n",
              "  background-color: var(--sklearn-color-fitted-level-2);\n",
              "}\n",
              "\n",
              "/* Estimator-specific style */\n",
              "\n",
              "/* Colorize estimator box */\n",
              "#sk-container-id-2 div.sk-estimator input.sk-toggleable__control:checked~label.sk-toggleable__label {\n",
              "  /* unfitted */\n",
              "  background-color: var(--sklearn-color-unfitted-level-2);\n",
              "}\n",
              "\n",
              "#sk-container-id-2 div.sk-estimator.fitted input.sk-toggleable__control:checked~label.sk-toggleable__label {\n",
              "  /* fitted */\n",
              "  background-color: var(--sklearn-color-fitted-level-2);\n",
              "}\n",
              "\n",
              "#sk-container-id-2 div.sk-label label.sk-toggleable__label,\n",
              "#sk-container-id-2 div.sk-label label {\n",
              "  /* The background is the default theme color */\n",
              "  color: var(--sklearn-color-text-on-default-background);\n",
              "}\n",
              "\n",
              "/* On hover, darken the color of the background */\n",
              "#sk-container-id-2 div.sk-label:hover label.sk-toggleable__label {\n",
              "  color: var(--sklearn-color-text);\n",
              "  background-color: var(--sklearn-color-unfitted-level-2);\n",
              "}\n",
              "\n",
              "/* Label box, darken color on hover, fitted */\n",
              "#sk-container-id-2 div.sk-label.fitted:hover label.sk-toggleable__label.fitted {\n",
              "  color: var(--sklearn-color-text);\n",
              "  background-color: var(--sklearn-color-fitted-level-2);\n",
              "}\n",
              "\n",
              "/* Estimator label */\n",
              "\n",
              "#sk-container-id-2 div.sk-label label {\n",
              "  font-family: monospace;\n",
              "  font-weight: bold;\n",
              "  display: inline-block;\n",
              "  line-height: 1.2em;\n",
              "}\n",
              "\n",
              "#sk-container-id-2 div.sk-label-container {\n",
              "  text-align: center;\n",
              "}\n",
              "\n",
              "/* Estimator-specific */\n",
              "#sk-container-id-2 div.sk-estimator {\n",
              "  font-family: monospace;\n",
              "  border: 1px dotted var(--sklearn-color-border-box);\n",
              "  border-radius: 0.25em;\n",
              "  box-sizing: border-box;\n",
              "  margin-bottom: 0.5em;\n",
              "  /* unfitted */\n",
              "  background-color: var(--sklearn-color-unfitted-level-0);\n",
              "}\n",
              "\n",
              "#sk-container-id-2 div.sk-estimator.fitted {\n",
              "  /* fitted */\n",
              "  background-color: var(--sklearn-color-fitted-level-0);\n",
              "}\n",
              "\n",
              "/* on hover */\n",
              "#sk-container-id-2 div.sk-estimator:hover {\n",
              "  /* unfitted */\n",
              "  background-color: var(--sklearn-color-unfitted-level-2);\n",
              "}\n",
              "\n",
              "#sk-container-id-2 div.sk-estimator.fitted:hover {\n",
              "  /* fitted */\n",
              "  background-color: var(--sklearn-color-fitted-level-2);\n",
              "}\n",
              "\n",
              "/* Specification for estimator info (e.g. \"i\" and \"?\") */\n",
              "\n",
              "/* Common style for \"i\" and \"?\" */\n",
              "\n",
              ".sk-estimator-doc-link,\n",
              "a:link.sk-estimator-doc-link,\n",
              "a:visited.sk-estimator-doc-link {\n",
              "  float: right;\n",
              "  font-size: smaller;\n",
              "  line-height: 1em;\n",
              "  font-family: monospace;\n",
              "  background-color: var(--sklearn-color-background);\n",
              "  border-radius: 1em;\n",
              "  height: 1em;\n",
              "  width: 1em;\n",
              "  text-decoration: none !important;\n",
              "  margin-left: 1ex;\n",
              "  /* unfitted */\n",
              "  border: var(--sklearn-color-unfitted-level-1) 1pt solid;\n",
              "  color: var(--sklearn-color-unfitted-level-1);\n",
              "}\n",
              "\n",
              ".sk-estimator-doc-link.fitted,\n",
              "a:link.sk-estimator-doc-link.fitted,\n",
              "a:visited.sk-estimator-doc-link.fitted {\n",
              "  /* fitted */\n",
              "  border: var(--sklearn-color-fitted-level-1) 1pt solid;\n",
              "  color: var(--sklearn-color-fitted-level-1);\n",
              "}\n",
              "\n",
              "/* On hover */\n",
              "div.sk-estimator:hover .sk-estimator-doc-link:hover,\n",
              ".sk-estimator-doc-link:hover,\n",
              "div.sk-label-container:hover .sk-estimator-doc-link:hover,\n",
              ".sk-estimator-doc-link:hover {\n",
              "  /* unfitted */\n",
              "  background-color: var(--sklearn-color-unfitted-level-3);\n",
              "  color: var(--sklearn-color-background);\n",
              "  text-decoration: none;\n",
              "}\n",
              "\n",
              "div.sk-estimator.fitted:hover .sk-estimator-doc-link.fitted:hover,\n",
              ".sk-estimator-doc-link.fitted:hover,\n",
              "div.sk-label-container:hover .sk-estimator-doc-link.fitted:hover,\n",
              ".sk-estimator-doc-link.fitted:hover {\n",
              "  /* fitted */\n",
              "  background-color: var(--sklearn-color-fitted-level-3);\n",
              "  color: var(--sklearn-color-background);\n",
              "  text-decoration: none;\n",
              "}\n",
              "\n",
              "/* Span, style for the box shown on hovering the info icon */\n",
              ".sk-estimator-doc-link span {\n",
              "  display: none;\n",
              "  z-index: 9999;\n",
              "  position: relative;\n",
              "  font-weight: normal;\n",
              "  right: .2ex;\n",
              "  padding: .5ex;\n",
              "  margin: .5ex;\n",
              "  width: min-content;\n",
              "  min-width: 20ex;\n",
              "  max-width: 50ex;\n",
              "  color: var(--sklearn-color-text);\n",
              "  box-shadow: 2pt 2pt 4pt #999;\n",
              "  /* unfitted */\n",
              "  background: var(--sklearn-color-unfitted-level-0);\n",
              "  border: .5pt solid var(--sklearn-color-unfitted-level-3);\n",
              "}\n",
              "\n",
              ".sk-estimator-doc-link.fitted span {\n",
              "  /* fitted */\n",
              "  background: var(--sklearn-color-fitted-level-0);\n",
              "  border: var(--sklearn-color-fitted-level-3);\n",
              "}\n",
              "\n",
              ".sk-estimator-doc-link:hover span {\n",
              "  display: block;\n",
              "}\n",
              "\n",
              "/* \"?\"-specific style due to the `<a>` HTML tag */\n",
              "\n",
              "#sk-container-id-2 a.estimator_doc_link {\n",
              "  float: right;\n",
              "  font-size: 1rem;\n",
              "  line-height: 1em;\n",
              "  font-family: monospace;\n",
              "  background-color: var(--sklearn-color-background);\n",
              "  border-radius: 1rem;\n",
              "  height: 1rem;\n",
              "  width: 1rem;\n",
              "  text-decoration: none;\n",
              "  /* unfitted */\n",
              "  color: var(--sklearn-color-unfitted-level-1);\n",
              "  border: var(--sklearn-color-unfitted-level-1) 1pt solid;\n",
              "}\n",
              "\n",
              "#sk-container-id-2 a.estimator_doc_link.fitted {\n",
              "  /* fitted */\n",
              "  border: var(--sklearn-color-fitted-level-1) 1pt solid;\n",
              "  color: var(--sklearn-color-fitted-level-1);\n",
              "}\n",
              "\n",
              "/* On hover */\n",
              "#sk-container-id-2 a.estimator_doc_link:hover {\n",
              "  /* unfitted */\n",
              "  background-color: var(--sklearn-color-unfitted-level-3);\n",
              "  color: var(--sklearn-color-background);\n",
              "  text-decoration: none;\n",
              "}\n",
              "\n",
              "#sk-container-id-2 a.estimator_doc_link.fitted:hover {\n",
              "  /* fitted */\n",
              "  background-color: var(--sklearn-color-fitted-level-3);\n",
              "}\n",
              "</style><div id=\"sk-container-id-2\" class=\"sk-top-container\"><div class=\"sk-text-repr-fallback\"><pre>LatentDirichletAllocation(n_components=5, random_state=42)</pre><b>In a Jupyter environment, please rerun this cell to show the HTML representation or trust the notebook. <br />On GitHub, the HTML representation is unable to render, please try loading this page with nbviewer.org.</b></div><div class=\"sk-container\" hidden><div class=\"sk-item\"><div class=\"sk-estimator fitted sk-toggleable\"><input class=\"sk-toggleable__control sk-hidden--visually\" id=\"sk-estimator-id-2\" type=\"checkbox\" checked><label for=\"sk-estimator-id-2\" class=\"sk-toggleable__label fitted sk-toggleable__label-arrow fitted\">&nbsp;&nbsp;LatentDirichletAllocation<a class=\"sk-estimator-doc-link fitted\" rel=\"noreferrer\" target=\"_blank\" href=\"https://scikit-learn.org/1.5/modules/generated/sklearn.decomposition.LatentDirichletAllocation.html\">?<span>Documentation for LatentDirichletAllocation</span></a><span class=\"sk-estimator-doc-link fitted\">i<span>Fitted</span></span></label><div class=\"sk-toggleable__content fitted\"><pre>LatentDirichletAllocation(n_components=5, random_state=42)</pre></div> </div></div></div></div>"
            ]
          },
          "metadata": {},
          "execution_count": 41
        }
      ]
    },
    {
      "cell_type": "code",
      "source": [
        "# Display Topics\n",
        "print(\"\\nIdentified Topics:\")\n",
        "for index, topic in enumerate(lda.components_):\n",
        "    print(f\"Topic #{index + 1}:\")\n",
        "    print([vectorizer.get_feature_names_out()[i] for i in topic.argsort()[-10:]])"
      ],
      "metadata": {
        "colab": {
          "base_uri": "https://localhost:8080/"
        },
        "id": "bh1T8xi81HyM",
        "outputId": "b353c9b1-97f3-4a50-bfb4-686e8f98fb23"
      },
      "execution_count": 42,
      "outputs": [
        {
          "output_type": "stream",
          "name": "stdout",
          "text": [
            "\n",
            "Identified Topics:\n",
            "Topic #1:\n",
            "['tomorrow', 'swing', 'states', 'early', 'turnout', 'leaning', 'day', 'trump', 'election', 'vote']\n",
            "Topic #2:\n",
            "['defeat', 'body', 'asking', 'save', 'washington', 'love', 'fight', 'land', 'great', 'president']\n",
            "Topic #3:\n",
            "['musk', 'swing', 'states', 've', 'real', 'democracy', 'elon', 'tomorrow', 'win', 'vote']\n",
            "Topic #4:\n",
            "['absolutely', 'push', 'fraud', 'reason', 'impossible', 'make', 'ban', 'prove', 'voter', 'id']\n",
            "Topic #5:\n",
            "['pets', 'fucking', 'thinking', 'dollars', 'america', 'end', 'vote', 'free', 'musk', 'elon']\n"
          ]
        }
      ]
    },
    {
      "cell_type": "markdown",
      "source": [
        "# Conclusion"
      ],
      "metadata": {
        "id": "na0fhtSM0s5L"
      }
    },
    {
      "cell_type": "markdown",
      "source": [
        "This project successfully analyzed the sentiment and topics of tweets from the University of Hyderabad. Key outcomes include:\n",
        "1. Categorization of tweets into positive, negative, and neutral sentiments.\n",
        "2. Identification of trending topics discussed in the tweets.\n",
        "\n",
        "## Applications:\n",
        "1. Help the university refine its social media strategies.\n",
        "2. Improve student and public engagement based on sentiment insights.\n",
        "3. Inform university stakeholders about emerging themes or concerns."
      ],
      "metadata": {
        "id": "idAETn6WSxjW"
      }
    }
  ]
}